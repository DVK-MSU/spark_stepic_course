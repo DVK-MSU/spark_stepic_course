{
  "nbformat": 4,
  "nbformat_minor": 0,
  "metadata": {
    "colab": {
      "provenance": []
    },
    "kernelspec": {
      "name": "python3",
      "display_name": "Python 3"
    },
    "language_info": {
      "name": "python"
    }
  },
  "cells": [
    {
      "cell_type": "code",
      "execution_count": 1,
      "metadata": {
        "id": "rHuV2NYSdGKq",
        "colab": {
          "base_uri": "https://localhost:8080/"
        },
        "outputId": "4698d87e-6816-4db2-939e-5847243bb4dd"
      },
      "outputs": [
        {
          "output_type": "stream",
          "name": "stdout",
          "text": [
            "Collecting pyspark\n",
            "  Downloading pyspark-3.4.1.tar.gz (310.8 MB)\n",
            "\u001b[2K     \u001b[90m━━━━━━━━━━━━━━━━━━━━━━━━━━━━━━━━━━━━━━━\u001b[0m \u001b[32m310.8/310.8 MB\u001b[0m \u001b[31m4.6 MB/s\u001b[0m eta \u001b[36m0:00:00\u001b[0m\n",
            "\u001b[?25h  Preparing metadata (setup.py) ... \u001b[?25l\u001b[?25hdone\n",
            "Requirement already satisfied: py4j==0.10.9.7 in /usr/local/lib/python3.10/dist-packages (from pyspark) (0.10.9.7)\n",
            "Building wheels for collected packages: pyspark\n",
            "  Building wheel for pyspark (setup.py) ... \u001b[?25l\u001b[?25hdone\n",
            "  Created wheel for pyspark: filename=pyspark-3.4.1-py2.py3-none-any.whl size=311285387 sha256=2ebb54ce66bea6e91eedd7a741a33cc2eb8e4f40861e209cae4fac7d61b1d747\n",
            "  Stored in directory: /root/.cache/pip/wheels/0d/77/a3/ff2f74cc9ab41f8f594dabf0579c2a7c6de920d584206e0834\n",
            "Successfully built pyspark\n",
            "Installing collected packages: pyspark\n",
            "Successfully installed pyspark-3.4.1\n"
          ]
        }
      ],
      "source": [
        "!pip install pyspark\n",
        "from pyspark.sql import SparkSession\n",
        "spark = SparkSession \\\n",
        "    .builder \\\n",
        "    .master('local[*]') \\\n",
        "    .appName(\"PySpark_Stepic_Tutorials\") \\\n",
        "    .config(\"spark.some.config.option\", \"some-value\") \\\n",
        "    .getOrCreate()\n",
        "\n",
        "import numpy as np\n",
        "import pandas as pd\n",
        "#Функция для передачи результата sql-запроса в pandas DataFrame.\n",
        "#Напиши select = \"\"\" SELECT * FROM table\"\"\" и вызови функцию sql(select)\n",
        "def sql(select):\n",
        "    SQLdf = spark.sql(select)\n",
        "    return SQLdf.toPandas()\n",
        "\n",
        "import pyspark.sql.functions as F\n",
        "\n",
        "from google.colab import data_table\n",
        "data_table.disable_dataframe_formatter()\n",
        "\n",
        "spark.conf.set(\"spark.sql.execution.arrow.pyspark.enabled\", \"true\")"
      ]
    },
    {
      "cell_type": "markdown",
      "source": [
        "# <font color='yellow'>Чтение данных"
      ],
      "metadata": {
        "id": "hOi07uDgLdkP"
      }
    },
    {
      "cell_type": "markdown",
      "source": [
        "Используя spark.read мы может считывать данные из файлов различных форматов, таких как CSV, JSON, Parquet и других. Вот несколько примеров получения данных из файлов:"
      ],
      "metadata": {
        "id": "ew4mJk22MGwO"
      }
    },
    {
      "cell_type": "code",
      "source": [
        "# spark.read.csv\n",
        "# spark.read.json\n",
        "# spark.read.parquet"
      ],
      "metadata": {
        "id": "lW3bjBkPLfR4"
      },
      "execution_count": 2,
      "outputs": []
    },
    {
      "cell_type": "markdown",
      "source": [
        "# <font color='yellow'>Запись/сохранение данных в файл"
      ],
      "metadata": {
        "id": "_mrbyBODMRnr"
      }
    },
    {
      "cell_type": "markdown",
      "source": [
        "Метод write.save() используется для сохранения данных в различных форматах, таких как CSV, JSON, Parquet и других. Давайте рассмотрим, как записать данные в файлы разных форматов. Мы можем сохранить как все строки, так и только выбранные с помощью метода select()"
      ],
      "metadata": {
        "id": "2aNpwl95MbBt"
      }
    },
    {
      "cell_type": "code",
      "source": [
        "# # CSV\n",
        "# data.write.csv('dataset.csv')\n",
        "\n",
        "# # JSON\n",
        "# data.write.save('dataset.json', format='json')\n",
        "\n",
        "# # Parquet\n",
        "# data.write.save('dataset.parquet', format='parquet')"
      ],
      "metadata": {
        "id": "a4b6A7CVMSVx"
      },
      "execution_count": 3,
      "outputs": []
    },
    {
      "cell_type": "code",
      "source": [
        "#df.columns"
      ],
      "metadata": {
        "id": "ezjyH2clNxNs"
      },
      "execution_count": 4,
      "outputs": []
    },
    {
      "cell_type": "code",
      "source": [
        "#df.select(['_c0', '_c1', '_c2']).write.csv('dataset_part.csv')"
      ],
      "metadata": {
        "id": "vOxl2h9KqMrB"
      },
      "execution_count": 5,
      "outputs": []
    },
    {
      "cell_type": "markdown",
      "source": [
        "# <font color = 'yellow'>Структурирование данных с помощью схемы Spark"
      ],
      "metadata": {
        "id": "vr0zy3u1O3oM"
      }
    },
    {
      "cell_type": "code",
      "source": [
        "path = '/content/drive/MyDrive/stocks_price_final.csv'\n",
        "data = spark.read.csv(path, sep = ',', header=True)"
      ],
      "metadata": {
        "id": "qmXXSwh_O5Tn"
      },
      "execution_count": 6,
      "outputs": []
    },
    {
      "cell_type": "code",
      "source": [
        "data.printSchema()"
      ],
      "metadata": {
        "colab": {
          "base_uri": "https://localhost:8080/"
        },
        "id": "abHEwaAdQNh9",
        "outputId": "42fd4ac5-71ae-4280-bea1-53a288a86c21"
      },
      "execution_count": 7,
      "outputs": [
        {
          "output_type": "stream",
          "name": "stdout",
          "text": [
            "root\n",
            " |-- _c0: string (nullable = true)\n",
            " |-- symbol: string (nullable = true)\n",
            " |-- date: string (nullable = true)\n",
            " |-- open: string (nullable = true)\n",
            " |-- high: string (nullable = true)\n",
            " |-- low: string (nullable = true)\n",
            " |-- close: string (nullable = true)\n",
            " |-- volume: string (nullable = true)\n",
            " |-- adjusted: string (nullable = true)\n",
            " |-- market.cap: string (nullable = true)\n",
            " |-- sector: string (nullable = true)\n",
            " |-- industry: string (nullable = true)\n",
            " |-- exchange: string (nullable = true)\n",
            "\n"
          ]
        }
      ]
    },
    {
      "cell_type": "code",
      "source": [
        "data.show(2)"
      ],
      "metadata": {
        "colab": {
          "base_uri": "https://localhost:8080/"
        },
        "id": "hJ1ZVD23QTVc",
        "outputId": "2b9275fa-8624-44af-80a2-68e332a9bc5c"
      },
      "execution_count": 8,
      "outputs": [
        {
          "output_type": "stream",
          "name": "stdout",
          "text": [
            "+---+------+----------+-----+------+---------+-----+-------+--------+----------+-------------+--------------------+--------+\n",
            "|_c0|symbol|      date| open|  high|      low|close| volume|adjusted|market.cap|       sector|            industry|exchange|\n",
            "+---+------+----------+-----+------+---------+-----+-------+--------+----------+-------------+--------------------+--------+\n",
            "|  1|   TXG|2019-09-12|   54|    58|       51|52.75|7326300|   52.75|    $9.31B|Capital Goods|Biotechnology: La...|  NASDAQ|\n",
            "|  2|   TXG|2019-09-13|52.75|54.355|49.150002|52.27|1025200|   52.27|    $9.31B|Capital Goods|Biotechnology: La...|  NASDAQ|\n",
            "+---+------+----------+-----+------+---------+-----+-------+--------+----------+-------------+--------------------+--------+\n",
            "only showing top 2 rows\n",
            "\n"
          ]
        }
      ]
    },
    {
      "cell_type": "markdown",
      "source": [
        "Примечание: видим, что некоторые поля содержат числовые данные, но в схеме они определились как строки. Чтобы изменить это на начальном этапе - используем свою схему"
      ],
      "metadata": {
        "id": "-tF07AZDUpN8"
      }
    },
    {
      "cell_type": "code",
      "source": [
        "from pyspark.sql.types import *"
      ],
      "metadata": {
        "id": "XRJSbKVrVC6H"
      },
      "execution_count": 9,
      "outputs": []
    },
    {
      "cell_type": "code",
      "source": [
        "\n",
        "data_schema =[\n",
        "\n",
        "               StructField('_c0', IntegerType(), True),\n",
        "               StructField('symbol', StringType(), True),\n",
        "               StructField('date', DateType(), True),\n",
        "               StructField('open', DoubleType(), True),\n",
        "               StructField('high', DoubleType(), True),\n",
        "               StructField('low', DoubleType(), True),\n",
        "               StructField('close', DoubleType(), True),\n",
        "               StructField('volume', IntegerType(), True),\n",
        "               StructField('adjusted', DoubleType(), True),\n",
        "               StructField('market.cap', StringType(), True),\n",
        "               StructField('sector', StringType(), True),\n",
        "               StructField('industry', StringType(), True),\n",
        "               StructField('exchange', StringType(), True)]"
      ],
      "metadata": {
        "id": "mu7-_yWPU7Bc"
      },
      "execution_count": 10,
      "outputs": []
    },
    {
      "cell_type": "code",
      "source": [
        "final_structure = StructType(fields=data_schema)"
      ],
      "metadata": {
        "id": "FkLzwqyUY9vt"
      },
      "execution_count": 11,
      "outputs": []
    },
    {
      "cell_type": "code",
      "source": [
        "data = spark.read.csv(path=path, schema=final_structure, sep=',', header=True)\n",
        "data.show(10)"
      ],
      "metadata": {
        "colab": {
          "base_uri": "https://localhost:8080/"
        },
        "id": "Lrj5re2EZI8P",
        "outputId": "54cac484-7f44-45c3-87f0-870a3b770783"
      },
      "execution_count": 12,
      "outputs": [
        {
          "output_type": "stream",
          "name": "stdout",
          "text": [
            "+---+------+----------+---------+---------+---------+---------+-------+---------+----------+-------------+--------------------+--------+\n",
            "|_c0|symbol|      date|     open|     high|      low|    close| volume| adjusted|market.cap|       sector|            industry|exchange|\n",
            "+---+------+----------+---------+---------+---------+---------+-------+---------+----------+-------------+--------------------+--------+\n",
            "|  1|   TXG|2019-09-12|     54.0|     58.0|     51.0|    52.75|7326300|    52.75|    $9.31B|Capital Goods|Biotechnology: La...|  NASDAQ|\n",
            "|  2|   TXG|2019-09-13|    52.75|   54.355|49.150002|    52.27|1025200|    52.27|    $9.31B|Capital Goods|Biotechnology: La...|  NASDAQ|\n",
            "|  3|   TXG|2019-09-16|52.450001|     56.0|52.009998|55.200001| 269900|55.200001|    $9.31B|Capital Goods|Biotechnology: La...|  NASDAQ|\n",
            "|  4|   TXG|2019-09-17|56.209999|60.900002|   55.423|56.779999| 602800|56.779999|    $9.31B|Capital Goods|Biotechnology: La...|  NASDAQ|\n",
            "|  5|   TXG|2019-09-18|56.849998|    62.27|55.650002|     62.0|1589600|     62.0|    $9.31B|Capital Goods|Biotechnology: La...|  NASDAQ|\n",
            "|  6|   TXG|2019-09-19|62.810001|   63.375|61.029999|61.119999| 425200|61.119999|    $9.31B|Capital Goods|Biotechnology: La...|  NASDAQ|\n",
            "|  7|   TXG|2019-09-20|61.709999|62.419998|    59.82|     60.5| 392000|     60.5|    $9.31B|Capital Goods|Biotechnology: La...|  NASDAQ|\n",
            "|  8|   TXG|2019-09-23|60.220001|61.485001|59.939999|60.330002| 137200|60.330002|    $9.31B|Capital Goods|Biotechnology: La...|  NASDAQ|\n",
            "|  9|   TXG|2019-09-24|     61.0|     61.0|     54.0|54.299999| 713800|54.299999|    $9.31B|Capital Goods|Biotechnology: La...|  NASDAQ|\n",
            "| 10|   TXG|2019-09-25|54.459999|55.880001|   52.563|52.759998| 261200|52.759998|    $9.31B|Capital Goods|Biotechnology: La...|  NASDAQ|\n",
            "+---+------+----------+---------+---------+---------+---------+-------+---------+----------+-------------+--------------------+--------+\n",
            "only showing top 10 rows\n",
            "\n"
          ]
        }
      ]
    },
    {
      "cell_type": "code",
      "source": [
        "data.printSchema()"
      ],
      "metadata": {
        "colab": {
          "base_uri": "https://localhost:8080/"
        },
        "id": "WuGqw3P7Zple",
        "outputId": "7d4c3219-36dd-43e1-eca0-888c61892f78"
      },
      "execution_count": 13,
      "outputs": [
        {
          "output_type": "stream",
          "name": "stdout",
          "text": [
            "root\n",
            " |-- _c0: integer (nullable = true)\n",
            " |-- symbol: string (nullable = true)\n",
            " |-- date: date (nullable = true)\n",
            " |-- open: double (nullable = true)\n",
            " |-- high: double (nullable = true)\n",
            " |-- low: double (nullable = true)\n",
            " |-- close: double (nullable = true)\n",
            " |-- volume: integer (nullable = true)\n",
            " |-- adjusted: double (nullable = true)\n",
            " |-- market.cap: string (nullable = true)\n",
            " |-- sector: string (nullable = true)\n",
            " |-- industry: string (nullable = true)\n",
            " |-- exchange: string (nullable = true)\n",
            "\n"
          ]
        }
      ]
    },
    {
      "cell_type": "markdown",
      "source": [
        "# <font color = 'yellow'> Различные методы инспекции данных"
      ],
      "metadata": {
        "id": "rol99_G5gLbH"
      }
    },
    {
      "cell_type": "code",
      "source": [
        "# schema(): этот метод возвращает схему данных (фрейма данных). Ниже показан пример с ценами на акции"
      ],
      "metadata": {
        "id": "0DCJ9gQygRGK"
      },
      "execution_count": 14,
      "outputs": []
    },
    {
      "cell_type": "code",
      "source": [
        "data.schema"
      ],
      "metadata": {
        "colab": {
          "base_uri": "https://localhost:8080/"
        },
        "id": "UJmY0KgWiP6u",
        "outputId": "17c829eb-b880-4fc7-d9fb-6222c82d17da"
      },
      "execution_count": 15,
      "outputs": [
        {
          "output_type": "execute_result",
          "data": {
            "text/plain": [
              "StructType([StructField('_c0', IntegerType(), True), StructField('symbol', StringType(), True), StructField('date', DateType(), True), StructField('open', DoubleType(), True), StructField('high', DoubleType(), True), StructField('low', DoubleType(), True), StructField('close', DoubleType(), True), StructField('volume', IntegerType(), True), StructField('adjusted', DoubleType(), True), StructField('market.cap', StringType(), True), StructField('sector', StringType(), True), StructField('industry', StringType(), True), StructField('exchange', StringType(), True)])"
            ]
          },
          "metadata": {},
          "execution_count": 15
        }
      ]
    },
    {
      "cell_type": "code",
      "source": [
        "# dtypes возвращает список кортежей с именами столбцов и типами данных"
      ],
      "metadata": {
        "id": "SAm3BHmvi7mg"
      },
      "execution_count": 16,
      "outputs": []
    },
    {
      "cell_type": "code",
      "source": [
        "data.dtypes"
      ],
      "metadata": {
        "colab": {
          "base_uri": "https://localhost:8080/"
        },
        "id": "tu0Gy1AFi_UP",
        "outputId": "8ba04302-9b88-425f-da83-e1610dc4b5f5"
      },
      "execution_count": 17,
      "outputs": [
        {
          "output_type": "execute_result",
          "data": {
            "text/plain": [
              "[('_c0', 'int'),\n",
              " ('symbol', 'string'),\n",
              " ('date', 'date'),\n",
              " ('open', 'double'),\n",
              " ('high', 'double'),\n",
              " ('low', 'double'),\n",
              " ('close', 'double'),\n",
              " ('volume', 'int'),\n",
              " ('adjusted', 'double'),\n",
              " ('market.cap', 'string'),\n",
              " ('sector', 'string'),\n",
              " ('industry', 'string'),\n",
              " ('exchange', 'string')]"
            ]
          },
          "metadata": {},
          "execution_count": 17
        }
      ]
    },
    {
      "cell_type": "code",
      "source": [
        "# show() по умолчанию отображает первые 20 строк,\n",
        "# а также принимает число в качестве параметра для выбора их количества"
      ],
      "metadata": {
        "id": "kKeTGl2FjMrk"
      },
      "execution_count": 18,
      "outputs": []
    },
    {
      "cell_type": "code",
      "source": [
        "data.show()"
      ],
      "metadata": {
        "colab": {
          "base_uri": "https://localhost:8080/"
        },
        "id": "nLSkDcoQjRmB",
        "outputId": "2283eafc-16c2-4098-d6d3-0aff62d34fad"
      },
      "execution_count": 19,
      "outputs": [
        {
          "output_type": "stream",
          "name": "stdout",
          "text": [
            "+---+------+----------+---------+---------+---------+---------+-------+---------+----------+-------------+--------------------+--------+\n",
            "|_c0|symbol|      date|     open|     high|      low|    close| volume| adjusted|market.cap|       sector|            industry|exchange|\n",
            "+---+------+----------+---------+---------+---------+---------+-------+---------+----------+-------------+--------------------+--------+\n",
            "|  1|   TXG|2019-09-12|     54.0|     58.0|     51.0|    52.75|7326300|    52.75|    $9.31B|Capital Goods|Biotechnology: La...|  NASDAQ|\n",
            "|  2|   TXG|2019-09-13|    52.75|   54.355|49.150002|    52.27|1025200|    52.27|    $9.31B|Capital Goods|Biotechnology: La...|  NASDAQ|\n",
            "|  3|   TXG|2019-09-16|52.450001|     56.0|52.009998|55.200001| 269900|55.200001|    $9.31B|Capital Goods|Biotechnology: La...|  NASDAQ|\n",
            "|  4|   TXG|2019-09-17|56.209999|60.900002|   55.423|56.779999| 602800|56.779999|    $9.31B|Capital Goods|Biotechnology: La...|  NASDAQ|\n",
            "|  5|   TXG|2019-09-18|56.849998|    62.27|55.650002|     62.0|1589600|     62.0|    $9.31B|Capital Goods|Biotechnology: La...|  NASDAQ|\n",
            "|  6|   TXG|2019-09-19|62.810001|   63.375|61.029999|61.119999| 425200|61.119999|    $9.31B|Capital Goods|Biotechnology: La...|  NASDAQ|\n",
            "|  7|   TXG|2019-09-20|61.709999|62.419998|    59.82|     60.5| 392000|     60.5|    $9.31B|Capital Goods|Biotechnology: La...|  NASDAQ|\n",
            "|  8|   TXG|2019-09-23|60.220001|61.485001|59.939999|60.330002| 137200|60.330002|    $9.31B|Capital Goods|Biotechnology: La...|  NASDAQ|\n",
            "|  9|   TXG|2019-09-24|     61.0|     61.0|     54.0|54.299999| 713800|54.299999|    $9.31B|Capital Goods|Biotechnology: La...|  NASDAQ|\n",
            "| 10|   TXG|2019-09-25|54.459999|55.880001|   52.563|52.759998| 261200|52.759998|    $9.31B|Capital Goods|Biotechnology: La...|  NASDAQ|\n",
            "| 11|   TXG|2019-09-26|52.779999|53.689999|46.619999|49.990002| 596300|49.990002|    $9.31B|Capital Goods|Biotechnology: La...|  NASDAQ|\n",
            "| 12|   TXG|2019-09-27|51.130001|     55.0|50.700001|51.029999| 621300|51.029999|    $9.31B|Capital Goods|Biotechnology: La...|  NASDAQ|\n",
            "| 13|   TXG|2019-09-30|51.049999|     52.0|    49.25|50.400002| 168900|50.400002|    $9.31B|Capital Goods|Biotechnology: La...|  NASDAQ|\n",
            "| 14|   TXG|2019-10-01|50.509998|51.919998|     46.0|47.029999| 536300|47.029999|    $9.31B|Capital Goods|Biotechnology: La...|  NASDAQ|\n",
            "| 15|   TXG|2019-10-02|46.779999|    47.23|45.110001|    46.07| 519600|    46.07|    $9.31B|Capital Goods|Biotechnology: La...|  NASDAQ|\n",
            "| 16|   TXG|2019-10-03|    46.77|48.240002|    45.75|48.119999| 703900|48.119999|    $9.31B|Capital Goods|Biotechnology: La...|  NASDAQ|\n",
            "| 17|   TXG|2019-10-04|     48.0|    53.34|    47.82|51.450001| 322400|51.450001|    $9.31B|Capital Goods|Biotechnology: La...|  NASDAQ|\n",
            "| 18|   TXG|2019-10-07|52.099998|53.220001|49.029999|50.360001| 476600|50.360001|    $9.31B|Capital Goods|Biotechnology: La...|  NASDAQ|\n",
            "| 19|   TXG|2019-10-08|     50.0|    51.27|     49.0|49.549999| 284100|49.549999|    $9.31B|Capital Goods|Biotechnology: La...|  NASDAQ|\n",
            "| 20|   TXG|2019-10-09|49.630001|51.525002|49.575001|50.009998| 201100|50.009998|    $9.31B|Capital Goods|Biotechnology: La...|  NASDAQ|\n",
            "+---+------+----------+---------+---------+---------+---------+-------+---------+----------+-------------+--------------------+--------+\n",
            "only showing top 20 rows\n",
            "\n"
          ]
        }
      ]
    },
    {
      "cell_type": "code",
      "source": [
        "# head(n) возвращает n строк в виде списка"
      ],
      "metadata": {
        "id": "mo7hXKzSjUbl"
      },
      "execution_count": 20,
      "outputs": []
    },
    {
      "cell_type": "code",
      "source": [
        "data.head(10)"
      ],
      "metadata": {
        "colab": {
          "base_uri": "https://localhost:8080/"
        },
        "id": "HtPJDh4YjZ7p",
        "outputId": "1284b7f9-c75a-430d-dd24-bc064b7bf734"
      },
      "execution_count": 21,
      "outputs": [
        {
          "output_type": "execute_result",
          "data": {
            "text/plain": [
              "[Row(_c0=1, symbol='TXG', date=datetime.date(2019, 9, 12), open=54.0, high=58.0, low=51.0, close=52.75, volume=7326300, adjusted=52.75, market.cap='$9.31B', sector='Capital Goods', industry='Biotechnology: Laboratory Analytical Instruments', exchange='NASDAQ'),\n",
              " Row(_c0=2, symbol='TXG', date=datetime.date(2019, 9, 13), open=52.75, high=54.355, low=49.150002, close=52.27, volume=1025200, adjusted=52.27, market.cap='$9.31B', sector='Capital Goods', industry='Biotechnology: Laboratory Analytical Instruments', exchange='NASDAQ'),\n",
              " Row(_c0=3, symbol='TXG', date=datetime.date(2019, 9, 16), open=52.450001, high=56.0, low=52.009998, close=55.200001, volume=269900, adjusted=55.200001, market.cap='$9.31B', sector='Capital Goods', industry='Biotechnology: Laboratory Analytical Instruments', exchange='NASDAQ'),\n",
              " Row(_c0=4, symbol='TXG', date=datetime.date(2019, 9, 17), open=56.209999, high=60.900002, low=55.423, close=56.779999, volume=602800, adjusted=56.779999, market.cap='$9.31B', sector='Capital Goods', industry='Biotechnology: Laboratory Analytical Instruments', exchange='NASDAQ'),\n",
              " Row(_c0=5, symbol='TXG', date=datetime.date(2019, 9, 18), open=56.849998, high=62.27, low=55.650002, close=62.0, volume=1589600, adjusted=62.0, market.cap='$9.31B', sector='Capital Goods', industry='Biotechnology: Laboratory Analytical Instruments', exchange='NASDAQ'),\n",
              " Row(_c0=6, symbol='TXG', date=datetime.date(2019, 9, 19), open=62.810001, high=63.375, low=61.029999, close=61.119999, volume=425200, adjusted=61.119999, market.cap='$9.31B', sector='Capital Goods', industry='Biotechnology: Laboratory Analytical Instruments', exchange='NASDAQ'),\n",
              " Row(_c0=7, symbol='TXG', date=datetime.date(2019, 9, 20), open=61.709999, high=62.419998, low=59.82, close=60.5, volume=392000, adjusted=60.5, market.cap='$9.31B', sector='Capital Goods', industry='Biotechnology: Laboratory Analytical Instruments', exchange='NASDAQ'),\n",
              " Row(_c0=8, symbol='TXG', date=datetime.date(2019, 9, 23), open=60.220001, high=61.485001, low=59.939999, close=60.330002, volume=137200, adjusted=60.330002, market.cap='$9.31B', sector='Capital Goods', industry='Biotechnology: Laboratory Analytical Instruments', exchange='NASDAQ'),\n",
              " Row(_c0=9, symbol='TXG', date=datetime.date(2019, 9, 24), open=61.0, high=61.0, low=54.0, close=54.299999, volume=713800, adjusted=54.299999, market.cap='$9.31B', sector='Capital Goods', industry='Biotechnology: Laboratory Analytical Instruments', exchange='NASDAQ'),\n",
              " Row(_c0=10, symbol='TXG', date=datetime.date(2019, 9, 25), open=54.459999, high=55.880001, low=52.563, close=52.759998, volume=261200, adjusted=52.759998, market.cap='$9.31B', sector='Capital Goods', industry='Biotechnology: Laboratory Analytical Instruments', exchange='NASDAQ')]"
            ]
          },
          "metadata": {},
          "execution_count": 21
        }
      ]
    },
    {
      "cell_type": "code",
      "source": [
        "# first() возвращает первую строку данных"
      ],
      "metadata": {
        "id": "advyX_88klXX"
      },
      "execution_count": 22,
      "outputs": []
    },
    {
      "cell_type": "code",
      "source": [
        "data.first()"
      ],
      "metadata": {
        "colab": {
          "base_uri": "https://localhost:8080/"
        },
        "id": "vkWeeQ-8knI0",
        "outputId": "ba2707cc-f73f-4801-bb9f-c797cb6a2eb5"
      },
      "execution_count": 23,
      "outputs": [
        {
          "output_type": "execute_result",
          "data": {
            "text/plain": [
              "Row(_c0=1, symbol='TXG', date=datetime.date(2019, 9, 12), open=54.0, high=58.0, low=51.0, close=52.75, volume=7326300, adjusted=52.75, market.cap='$9.31B', sector='Capital Goods', industry='Biotechnology: Laboratory Analytical Instruments', exchange='NASDAQ')"
            ]
          },
          "metadata": {},
          "execution_count": 23
        }
      ]
    },
    {
      "cell_type": "code",
      "source": [
        "# take(n) возвращает первые n строк"
      ],
      "metadata": {
        "id": "1gkt8GR3kzep"
      },
      "execution_count": 24,
      "outputs": []
    },
    {
      "cell_type": "code",
      "source": [
        "data.take(3)"
      ],
      "metadata": {
        "colab": {
          "base_uri": "https://localhost:8080/"
        },
        "id": "dqnEzw1lk0xg",
        "outputId": "c5a988c7-c920-48aa-e257-65d5c3476c6b"
      },
      "execution_count": 25,
      "outputs": [
        {
          "output_type": "execute_result",
          "data": {
            "text/plain": [
              "[Row(_c0=1, symbol='TXG', date=datetime.date(2019, 9, 12), open=54.0, high=58.0, low=51.0, close=52.75, volume=7326300, adjusted=52.75, market.cap='$9.31B', sector='Capital Goods', industry='Biotechnology: Laboratory Analytical Instruments', exchange='NASDAQ'),\n",
              " Row(_c0=2, symbol='TXG', date=datetime.date(2019, 9, 13), open=52.75, high=54.355, low=49.150002, close=52.27, volume=1025200, adjusted=52.27, market.cap='$9.31B', sector='Capital Goods', industry='Biotechnology: Laboratory Analytical Instruments', exchange='NASDAQ'),\n",
              " Row(_c0=3, symbol='TXG', date=datetime.date(2019, 9, 16), open=52.450001, high=56.0, low=52.009998, close=55.200001, volume=269900, adjusted=55.200001, market.cap='$9.31B', sector='Capital Goods', industry='Biotechnology: Laboratory Analytical Instruments', exchange='NASDAQ')]"
            ]
          },
          "metadata": {},
          "execution_count": 25
        }
      ]
    },
    {
      "cell_type": "code",
      "source": [
        "# describe() вычисляет некоторые статистические значения для столбцов с числовым типом данных"
      ],
      "metadata": {
        "id": "JcKmwms8k8gA"
      },
      "execution_count": 26,
      "outputs": []
    },
    {
      "cell_type": "code",
      "source": [
        "data.columns"
      ],
      "metadata": {
        "colab": {
          "base_uri": "https://localhost:8080/"
        },
        "id": "51Zh3oiNk-MS",
        "outputId": "6f70f7d2-98f2-485f-b43a-e52f68278950"
      },
      "execution_count": 27,
      "outputs": [
        {
          "output_type": "execute_result",
          "data": {
            "text/plain": [
              "['_c0',\n",
              " 'symbol',\n",
              " 'date',\n",
              " 'open',\n",
              " 'high',\n",
              " 'low',\n",
              " 'close',\n",
              " 'volume',\n",
              " 'adjusted',\n",
              " 'market.cap',\n",
              " 'sector',\n",
              " 'industry',\n",
              " 'exchange']"
            ]
          },
          "metadata": {},
          "execution_count": 27
        }
      ]
    },
    {
      "cell_type": "code",
      "source": [
        "data = data.withColumnRenamed('market.cap', 'market_cap')"
      ],
      "metadata": {
        "id": "6IrFLi9nmvqI"
      },
      "execution_count": 28,
      "outputs": []
    },
    {
      "cell_type": "code",
      "source": [
        "data.columns"
      ],
      "metadata": {
        "colab": {
          "base_uri": "https://localhost:8080/"
        },
        "id": "jnV4t6IHnMDJ",
        "outputId": "8abb6593-1b60-4366-e346-471e509fc795"
      },
      "execution_count": 29,
      "outputs": [
        {
          "output_type": "execute_result",
          "data": {
            "text/plain": [
              "['_c0',\n",
              " 'symbol',\n",
              " 'date',\n",
              " 'open',\n",
              " 'high',\n",
              " 'low',\n",
              " 'close',\n",
              " 'volume',\n",
              " 'adjusted',\n",
              " 'market_cap',\n",
              " 'sector',\n",
              " 'industry',\n",
              " 'exchange']"
            ]
          },
          "metadata": {},
          "execution_count": 29
        }
      ]
    },
    {
      "cell_type": "code",
      "source": [
        "data.select('volume').describe()"
      ],
      "metadata": {
        "colab": {
          "base_uri": "https://localhost:8080/"
        },
        "id": "YxC6NxcBoOCA",
        "outputId": "9b02fbaf-0ef5-457e-dd73-89e3f27abca9"
      },
      "execution_count": 30,
      "outputs": [
        {
          "output_type": "execute_result",
          "data": {
            "text/plain": [
              "DataFrame[summary: string, volume: string]"
            ]
          },
          "metadata": {},
          "execution_count": 30
        }
      ]
    },
    {
      "cell_type": "code",
      "source": [
        "data.count()"
      ],
      "metadata": {
        "colab": {
          "base_uri": "https://localhost:8080/"
        },
        "id": "_fuvTP-Uuigw",
        "outputId": "deed950b-366c-4137-bec5-a6629a11d709"
      },
      "execution_count": 31,
      "outputs": [
        {
          "output_type": "execute_result",
          "data": {
            "text/plain": [
              "1729034"
            ]
          },
          "metadata": {},
          "execution_count": 31
        }
      ]
    },
    {
      "cell_type": "code",
      "source": [
        "data.distinct().count()"
      ],
      "metadata": {
        "colab": {
          "base_uri": "https://localhost:8080/"
        },
        "id": "S-zBO_MBupCB",
        "outputId": "400ff28e-ea5e-420b-eb0c-d32c8465cd68"
      },
      "execution_count": 32,
      "outputs": [
        {
          "output_type": "execute_result",
          "data": {
            "text/plain": [
              "1729034"
            ]
          },
          "metadata": {},
          "execution_count": 32
        }
      ]
    },
    {
      "cell_type": "markdown",
      "source": [
        "# <font color = \"yellow\"> Манипуляции со столбцами"
      ],
      "metadata": {
        "id": "I3z8xjXxyIej"
      }
    },
    {
      "cell_type": "code",
      "source": [
        "data.columns"
      ],
      "metadata": {
        "colab": {
          "base_uri": "https://localhost:8080/"
        },
        "id": "yI5JzwD2ylmx",
        "outputId": "aa394146-519e-449f-da0d-8a4fa1ec6748"
      },
      "execution_count": 33,
      "outputs": [
        {
          "output_type": "execute_result",
          "data": {
            "text/plain": [
              "['_c0',\n",
              " 'symbol',\n",
              " 'date',\n",
              " 'open',\n",
              " 'high',\n",
              " 'low',\n",
              " 'close',\n",
              " 'volume',\n",
              " 'adjusted',\n",
              " 'market_cap',\n",
              " 'sector',\n",
              " 'industry',\n",
              " 'exchange']"
            ]
          },
          "metadata": {},
          "execution_count": 33
        }
      ]
    },
    {
      "cell_type": "code",
      "source": [
        "# Добавление столбца: используйте withColumn, чтобы добавить новый столбец к существующим.\n",
        "# Метод принимает два параметра: имя столбца и данные"
      ],
      "metadata": {
        "id": "G-AIonAxyNQG"
      },
      "execution_count": 34,
      "outputs": []
    },
    {
      "cell_type": "code",
      "source": [
        "data = data.withColumn('new_column_date', data.date)"
      ],
      "metadata": {
        "id": "OBr-1ztPySRg"
      },
      "execution_count": 35,
      "outputs": []
    },
    {
      "cell_type": "code",
      "source": [
        "data.show()"
      ],
      "metadata": {
        "colab": {
          "base_uri": "https://localhost:8080/"
        },
        "id": "aGx3uhlJyvGX",
        "outputId": "24c79661-0fcf-4c36-df5f-b2e8c2d81cae"
      },
      "execution_count": 36,
      "outputs": [
        {
          "output_type": "stream",
          "name": "stdout",
          "text": [
            "+---+------+----------+---------+---------+---------+---------+-------+---------+----------+-------------+--------------------+--------+---------------+\n",
            "|_c0|symbol|      date|     open|     high|      low|    close| volume| adjusted|market_cap|       sector|            industry|exchange|new_column_date|\n",
            "+---+------+----------+---------+---------+---------+---------+-------+---------+----------+-------------+--------------------+--------+---------------+\n",
            "|  1|   TXG|2019-09-12|     54.0|     58.0|     51.0|    52.75|7326300|    52.75|    $9.31B|Capital Goods|Biotechnology: La...|  NASDAQ|     2019-09-12|\n",
            "|  2|   TXG|2019-09-13|    52.75|   54.355|49.150002|    52.27|1025200|    52.27|    $9.31B|Capital Goods|Biotechnology: La...|  NASDAQ|     2019-09-13|\n",
            "|  3|   TXG|2019-09-16|52.450001|     56.0|52.009998|55.200001| 269900|55.200001|    $9.31B|Capital Goods|Biotechnology: La...|  NASDAQ|     2019-09-16|\n",
            "|  4|   TXG|2019-09-17|56.209999|60.900002|   55.423|56.779999| 602800|56.779999|    $9.31B|Capital Goods|Biotechnology: La...|  NASDAQ|     2019-09-17|\n",
            "|  5|   TXG|2019-09-18|56.849998|    62.27|55.650002|     62.0|1589600|     62.0|    $9.31B|Capital Goods|Biotechnology: La...|  NASDAQ|     2019-09-18|\n",
            "|  6|   TXG|2019-09-19|62.810001|   63.375|61.029999|61.119999| 425200|61.119999|    $9.31B|Capital Goods|Biotechnology: La...|  NASDAQ|     2019-09-19|\n",
            "|  7|   TXG|2019-09-20|61.709999|62.419998|    59.82|     60.5| 392000|     60.5|    $9.31B|Capital Goods|Biotechnology: La...|  NASDAQ|     2019-09-20|\n",
            "|  8|   TXG|2019-09-23|60.220001|61.485001|59.939999|60.330002| 137200|60.330002|    $9.31B|Capital Goods|Biotechnology: La...|  NASDAQ|     2019-09-23|\n",
            "|  9|   TXG|2019-09-24|     61.0|     61.0|     54.0|54.299999| 713800|54.299999|    $9.31B|Capital Goods|Biotechnology: La...|  NASDAQ|     2019-09-24|\n",
            "| 10|   TXG|2019-09-25|54.459999|55.880001|   52.563|52.759998| 261200|52.759998|    $9.31B|Capital Goods|Biotechnology: La...|  NASDAQ|     2019-09-25|\n",
            "| 11|   TXG|2019-09-26|52.779999|53.689999|46.619999|49.990002| 596300|49.990002|    $9.31B|Capital Goods|Biotechnology: La...|  NASDAQ|     2019-09-26|\n",
            "| 12|   TXG|2019-09-27|51.130001|     55.0|50.700001|51.029999| 621300|51.029999|    $9.31B|Capital Goods|Biotechnology: La...|  NASDAQ|     2019-09-27|\n",
            "| 13|   TXG|2019-09-30|51.049999|     52.0|    49.25|50.400002| 168900|50.400002|    $9.31B|Capital Goods|Biotechnology: La...|  NASDAQ|     2019-09-30|\n",
            "| 14|   TXG|2019-10-01|50.509998|51.919998|     46.0|47.029999| 536300|47.029999|    $9.31B|Capital Goods|Biotechnology: La...|  NASDAQ|     2019-10-01|\n",
            "| 15|   TXG|2019-10-02|46.779999|    47.23|45.110001|    46.07| 519600|    46.07|    $9.31B|Capital Goods|Biotechnology: La...|  NASDAQ|     2019-10-02|\n",
            "| 16|   TXG|2019-10-03|    46.77|48.240002|    45.75|48.119999| 703900|48.119999|    $9.31B|Capital Goods|Biotechnology: La...|  NASDAQ|     2019-10-03|\n",
            "| 17|   TXG|2019-10-04|     48.0|    53.34|    47.82|51.450001| 322400|51.450001|    $9.31B|Capital Goods|Biotechnology: La...|  NASDAQ|     2019-10-04|\n",
            "| 18|   TXG|2019-10-07|52.099998|53.220001|49.029999|50.360001| 476600|50.360001|    $9.31B|Capital Goods|Biotechnology: La...|  NASDAQ|     2019-10-07|\n",
            "| 19|   TXG|2019-10-08|     50.0|    51.27|     49.0|49.549999| 284100|49.549999|    $9.31B|Capital Goods|Biotechnology: La...|  NASDAQ|     2019-10-08|\n",
            "| 20|   TXG|2019-10-09|49.630001|51.525002|49.575001|50.009998| 201100|50.009998|    $9.31B|Capital Goods|Biotechnology: La...|  NASDAQ|     2019-10-09|\n",
            "+---+------+----------+---------+---------+---------+---------+-------+---------+----------+-------------+--------------------+--------+---------------+\n",
            "only showing top 20 rows\n",
            "\n"
          ]
        }
      ]
    },
    {
      "cell_type": "code",
      "source": [
        "# Обновление столбца: используйте withColumnRenamed, чтобы переименовать существующий столбец.\n",
        "# Метод принимает два параметра: название существующего столбца и его новое имя."
      ],
      "metadata": {
        "id": "Wfljss2yzS7K"
      },
      "execution_count": 37,
      "outputs": []
    },
    {
      "cell_type": "code",
      "source": [
        "data = data.withColumnRenamed('new_column_date', 'added_date')"
      ],
      "metadata": {
        "id": "4EZ5ShiGzGa8"
      },
      "execution_count": 38,
      "outputs": []
    },
    {
      "cell_type": "code",
      "source": [
        "data.show()"
      ],
      "metadata": {
        "colab": {
          "base_uri": "https://localhost:8080/"
        },
        "id": "GfQ8whmIzaqN",
        "outputId": "98c059f8-7e50-47a5-89d0-6d144e570252"
      },
      "execution_count": 39,
      "outputs": [
        {
          "output_type": "stream",
          "name": "stdout",
          "text": [
            "+---+------+----------+---------+---------+---------+---------+-------+---------+----------+-------------+--------------------+--------+----------+\n",
            "|_c0|symbol|      date|     open|     high|      low|    close| volume| adjusted|market_cap|       sector|            industry|exchange|added_date|\n",
            "+---+------+----------+---------+---------+---------+---------+-------+---------+----------+-------------+--------------------+--------+----------+\n",
            "|  1|   TXG|2019-09-12|     54.0|     58.0|     51.0|    52.75|7326300|    52.75|    $9.31B|Capital Goods|Biotechnology: La...|  NASDAQ|2019-09-12|\n",
            "|  2|   TXG|2019-09-13|    52.75|   54.355|49.150002|    52.27|1025200|    52.27|    $9.31B|Capital Goods|Biotechnology: La...|  NASDAQ|2019-09-13|\n",
            "|  3|   TXG|2019-09-16|52.450001|     56.0|52.009998|55.200001| 269900|55.200001|    $9.31B|Capital Goods|Biotechnology: La...|  NASDAQ|2019-09-16|\n",
            "|  4|   TXG|2019-09-17|56.209999|60.900002|   55.423|56.779999| 602800|56.779999|    $9.31B|Capital Goods|Biotechnology: La...|  NASDAQ|2019-09-17|\n",
            "|  5|   TXG|2019-09-18|56.849998|    62.27|55.650002|     62.0|1589600|     62.0|    $9.31B|Capital Goods|Biotechnology: La...|  NASDAQ|2019-09-18|\n",
            "|  6|   TXG|2019-09-19|62.810001|   63.375|61.029999|61.119999| 425200|61.119999|    $9.31B|Capital Goods|Biotechnology: La...|  NASDAQ|2019-09-19|\n",
            "|  7|   TXG|2019-09-20|61.709999|62.419998|    59.82|     60.5| 392000|     60.5|    $9.31B|Capital Goods|Biotechnology: La...|  NASDAQ|2019-09-20|\n",
            "|  8|   TXG|2019-09-23|60.220001|61.485001|59.939999|60.330002| 137200|60.330002|    $9.31B|Capital Goods|Biotechnology: La...|  NASDAQ|2019-09-23|\n",
            "|  9|   TXG|2019-09-24|     61.0|     61.0|     54.0|54.299999| 713800|54.299999|    $9.31B|Capital Goods|Biotechnology: La...|  NASDAQ|2019-09-24|\n",
            "| 10|   TXG|2019-09-25|54.459999|55.880001|   52.563|52.759998| 261200|52.759998|    $9.31B|Capital Goods|Biotechnology: La...|  NASDAQ|2019-09-25|\n",
            "| 11|   TXG|2019-09-26|52.779999|53.689999|46.619999|49.990002| 596300|49.990002|    $9.31B|Capital Goods|Biotechnology: La...|  NASDAQ|2019-09-26|\n",
            "| 12|   TXG|2019-09-27|51.130001|     55.0|50.700001|51.029999| 621300|51.029999|    $9.31B|Capital Goods|Biotechnology: La...|  NASDAQ|2019-09-27|\n",
            "| 13|   TXG|2019-09-30|51.049999|     52.0|    49.25|50.400002| 168900|50.400002|    $9.31B|Capital Goods|Biotechnology: La...|  NASDAQ|2019-09-30|\n",
            "| 14|   TXG|2019-10-01|50.509998|51.919998|     46.0|47.029999| 536300|47.029999|    $9.31B|Capital Goods|Biotechnology: La...|  NASDAQ|2019-10-01|\n",
            "| 15|   TXG|2019-10-02|46.779999|    47.23|45.110001|    46.07| 519600|    46.07|    $9.31B|Capital Goods|Biotechnology: La...|  NASDAQ|2019-10-02|\n",
            "| 16|   TXG|2019-10-03|    46.77|48.240002|    45.75|48.119999| 703900|48.119999|    $9.31B|Capital Goods|Biotechnology: La...|  NASDAQ|2019-10-03|\n",
            "| 17|   TXG|2019-10-04|     48.0|    53.34|    47.82|51.450001| 322400|51.450001|    $9.31B|Capital Goods|Biotechnology: La...|  NASDAQ|2019-10-04|\n",
            "| 18|   TXG|2019-10-07|52.099998|53.220001|49.029999|50.360001| 476600|50.360001|    $9.31B|Capital Goods|Biotechnology: La...|  NASDAQ|2019-10-07|\n",
            "| 19|   TXG|2019-10-08|     50.0|    51.27|     49.0|49.549999| 284100|49.549999|    $9.31B|Capital Goods|Biotechnology: La...|  NASDAQ|2019-10-08|\n",
            "| 20|   TXG|2019-10-09|49.630001|51.525002|49.575001|50.009998| 201100|50.009998|    $9.31B|Capital Goods|Biotechnology: La...|  NASDAQ|2019-10-09|\n",
            "+---+------+----------+---------+---------+---------+---------+-------+---------+----------+-------------+--------------------+--------+----------+\n",
            "only showing top 20 rows\n",
            "\n"
          ]
        }
      ]
    },
    {
      "cell_type": "code",
      "source": [
        "# Удаление столбца: используйте метод drop, который принимает имя столбца и возвращает данные."
      ],
      "metadata": {
        "id": "86KdVWPSzns4"
      },
      "execution_count": 40,
      "outputs": []
    },
    {
      "cell_type": "code",
      "source": [
        "data = data.drop('added_date')"
      ],
      "metadata": {
        "id": "D8H_L5_AzozS"
      },
      "execution_count": 41,
      "outputs": []
    },
    {
      "cell_type": "code",
      "source": [
        "data.show()"
      ],
      "metadata": {
        "colab": {
          "base_uri": "https://localhost:8080/"
        },
        "id": "zRGQ8VNazvql",
        "outputId": "b64b555b-3971-4175-99fd-b524db924177"
      },
      "execution_count": 42,
      "outputs": [
        {
          "output_type": "stream",
          "name": "stdout",
          "text": [
            "+---+------+----------+---------+---------+---------+---------+-------+---------+----------+-------------+--------------------+--------+\n",
            "|_c0|symbol|      date|     open|     high|      low|    close| volume| adjusted|market_cap|       sector|            industry|exchange|\n",
            "+---+------+----------+---------+---------+---------+---------+-------+---------+----------+-------------+--------------------+--------+\n",
            "|  1|   TXG|2019-09-12|     54.0|     58.0|     51.0|    52.75|7326300|    52.75|    $9.31B|Capital Goods|Biotechnology: La...|  NASDAQ|\n",
            "|  2|   TXG|2019-09-13|    52.75|   54.355|49.150002|    52.27|1025200|    52.27|    $9.31B|Capital Goods|Biotechnology: La...|  NASDAQ|\n",
            "|  3|   TXG|2019-09-16|52.450001|     56.0|52.009998|55.200001| 269900|55.200001|    $9.31B|Capital Goods|Biotechnology: La...|  NASDAQ|\n",
            "|  4|   TXG|2019-09-17|56.209999|60.900002|   55.423|56.779999| 602800|56.779999|    $9.31B|Capital Goods|Biotechnology: La...|  NASDAQ|\n",
            "|  5|   TXG|2019-09-18|56.849998|    62.27|55.650002|     62.0|1589600|     62.0|    $9.31B|Capital Goods|Biotechnology: La...|  NASDAQ|\n",
            "|  6|   TXG|2019-09-19|62.810001|   63.375|61.029999|61.119999| 425200|61.119999|    $9.31B|Capital Goods|Biotechnology: La...|  NASDAQ|\n",
            "|  7|   TXG|2019-09-20|61.709999|62.419998|    59.82|     60.5| 392000|     60.5|    $9.31B|Capital Goods|Biotechnology: La...|  NASDAQ|\n",
            "|  8|   TXG|2019-09-23|60.220001|61.485001|59.939999|60.330002| 137200|60.330002|    $9.31B|Capital Goods|Biotechnology: La...|  NASDAQ|\n",
            "|  9|   TXG|2019-09-24|     61.0|     61.0|     54.0|54.299999| 713800|54.299999|    $9.31B|Capital Goods|Biotechnology: La...|  NASDAQ|\n",
            "| 10|   TXG|2019-09-25|54.459999|55.880001|   52.563|52.759998| 261200|52.759998|    $9.31B|Capital Goods|Biotechnology: La...|  NASDAQ|\n",
            "| 11|   TXG|2019-09-26|52.779999|53.689999|46.619999|49.990002| 596300|49.990002|    $9.31B|Capital Goods|Biotechnology: La...|  NASDAQ|\n",
            "| 12|   TXG|2019-09-27|51.130001|     55.0|50.700001|51.029999| 621300|51.029999|    $9.31B|Capital Goods|Biotechnology: La...|  NASDAQ|\n",
            "| 13|   TXG|2019-09-30|51.049999|     52.0|    49.25|50.400002| 168900|50.400002|    $9.31B|Capital Goods|Biotechnology: La...|  NASDAQ|\n",
            "| 14|   TXG|2019-10-01|50.509998|51.919998|     46.0|47.029999| 536300|47.029999|    $9.31B|Capital Goods|Biotechnology: La...|  NASDAQ|\n",
            "| 15|   TXG|2019-10-02|46.779999|    47.23|45.110001|    46.07| 519600|    46.07|    $9.31B|Capital Goods|Biotechnology: La...|  NASDAQ|\n",
            "| 16|   TXG|2019-10-03|    46.77|48.240002|    45.75|48.119999| 703900|48.119999|    $9.31B|Capital Goods|Biotechnology: La...|  NASDAQ|\n",
            "| 17|   TXG|2019-10-04|     48.0|    53.34|    47.82|51.450001| 322400|51.450001|    $9.31B|Capital Goods|Biotechnology: La...|  NASDAQ|\n",
            "| 18|   TXG|2019-10-07|52.099998|53.220001|49.029999|50.360001| 476600|50.360001|    $9.31B|Capital Goods|Biotechnology: La...|  NASDAQ|\n",
            "| 19|   TXG|2019-10-08|     50.0|    51.27|     49.0|49.549999| 284100|49.549999|    $9.31B|Capital Goods|Biotechnology: La...|  NASDAQ|\n",
            "| 20|   TXG|2019-10-09|49.630001|51.525002|49.575001|50.009998| 201100|50.009998|    $9.31B|Capital Goods|Biotechnology: La...|  NASDAQ|\n",
            "+---+------+----------+---------+---------+---------+---------+-------+---------+----------+-------------+--------------------+--------+\n",
            "only showing top 20 rows\n",
            "\n"
          ]
        }
      ]
    },
    {
      "cell_type": "code",
      "source": [
        "# Задача\n",
        "\n",
        "# Прочитать уже знакомый нам датасет stocks_price_final;\n",
        "# Создать в конце новый столбец new_volume с данными из столбца volume;\n",
        "# Избавиться от следующих столбцов: symbol, close, volume , adjusted, market.cap, exchange;\n",
        "# Поменять местами названия столбцов high и low;\n",
        "# Столбец date переместить в конец;\n",
        "# Вывести первую строку, скопировав её полностью и вставить в ответ;\n",
        "# Примечание\n",
        "\n",
        "# Код для инициализации DataFrame:\n",
        "\n",
        "# data_schema = [\n",
        "#                StructField('_c0', IntegerType(), nullable=True),\n",
        "#                StructField('symbol', StringType(), True),\n",
        "#                StructField('date', DateType(), True),\n",
        "#                StructField('open', DoubleType(), True),\n",
        "#                StructField('high', DoubleType(), True),\n",
        "#                StructField('low', DoubleType(), True),\n",
        "#                StructField('close', DoubleType(), True),\n",
        "#                StructField('volume', IntegerType(), True),\n",
        "#                StructField('adjusted', DoubleType(), True),\n",
        "#                StructField('market.cap', StringType(), True),\n",
        "#                StructField('sector', StringType(), True),\n",
        "#                StructField('industry', StringType(), True),\n",
        "#                StructField('exchange', StringType(), True),\n",
        "#             ]\n",
        "\n",
        "# final_struc = StructType(fields = data_schema)\n",
        "\n",
        "# data = spark.read.csv(df_path, sep=',', header=True, schema=final_struc)"
      ],
      "metadata": {
        "id": "YXJyxdLV0lxj"
      },
      "execution_count": 43,
      "outputs": []
    },
    {
      "cell_type": "code",
      "source": [
        "data_copy = data.withColumn('new_volume', data.volume)\n"
      ],
      "metadata": {
        "id": "IXCIuOto0h8W"
      },
      "execution_count": 44,
      "outputs": []
    },
    {
      "cell_type": "code",
      "source": [
        "data_copy.show()"
      ],
      "metadata": {
        "colab": {
          "base_uri": "https://localhost:8080/"
        },
        "id": "d3TX2XTP1ltA",
        "outputId": "a7d9a54e-cf69-4bd6-a187-7d8624c4f4b4"
      },
      "execution_count": 45,
      "outputs": [
        {
          "output_type": "stream",
          "name": "stdout",
          "text": [
            "+---+------+----------+---------+---------+---------+---------+-------+---------+----------+-------------+--------------------+--------+----------+\n",
            "|_c0|symbol|      date|     open|     high|      low|    close| volume| adjusted|market_cap|       sector|            industry|exchange|new_volume|\n",
            "+---+------+----------+---------+---------+---------+---------+-------+---------+----------+-------------+--------------------+--------+----------+\n",
            "|  1|   TXG|2019-09-12|     54.0|     58.0|     51.0|    52.75|7326300|    52.75|    $9.31B|Capital Goods|Biotechnology: La...|  NASDAQ|   7326300|\n",
            "|  2|   TXG|2019-09-13|    52.75|   54.355|49.150002|    52.27|1025200|    52.27|    $9.31B|Capital Goods|Biotechnology: La...|  NASDAQ|   1025200|\n",
            "|  3|   TXG|2019-09-16|52.450001|     56.0|52.009998|55.200001| 269900|55.200001|    $9.31B|Capital Goods|Biotechnology: La...|  NASDAQ|    269900|\n",
            "|  4|   TXG|2019-09-17|56.209999|60.900002|   55.423|56.779999| 602800|56.779999|    $9.31B|Capital Goods|Biotechnology: La...|  NASDAQ|    602800|\n",
            "|  5|   TXG|2019-09-18|56.849998|    62.27|55.650002|     62.0|1589600|     62.0|    $9.31B|Capital Goods|Biotechnology: La...|  NASDAQ|   1589600|\n",
            "|  6|   TXG|2019-09-19|62.810001|   63.375|61.029999|61.119999| 425200|61.119999|    $9.31B|Capital Goods|Biotechnology: La...|  NASDAQ|    425200|\n",
            "|  7|   TXG|2019-09-20|61.709999|62.419998|    59.82|     60.5| 392000|     60.5|    $9.31B|Capital Goods|Biotechnology: La...|  NASDAQ|    392000|\n",
            "|  8|   TXG|2019-09-23|60.220001|61.485001|59.939999|60.330002| 137200|60.330002|    $9.31B|Capital Goods|Biotechnology: La...|  NASDAQ|    137200|\n",
            "|  9|   TXG|2019-09-24|     61.0|     61.0|     54.0|54.299999| 713800|54.299999|    $9.31B|Capital Goods|Biotechnology: La...|  NASDAQ|    713800|\n",
            "| 10|   TXG|2019-09-25|54.459999|55.880001|   52.563|52.759998| 261200|52.759998|    $9.31B|Capital Goods|Biotechnology: La...|  NASDAQ|    261200|\n",
            "| 11|   TXG|2019-09-26|52.779999|53.689999|46.619999|49.990002| 596300|49.990002|    $9.31B|Capital Goods|Biotechnology: La...|  NASDAQ|    596300|\n",
            "| 12|   TXG|2019-09-27|51.130001|     55.0|50.700001|51.029999| 621300|51.029999|    $9.31B|Capital Goods|Biotechnology: La...|  NASDAQ|    621300|\n",
            "| 13|   TXG|2019-09-30|51.049999|     52.0|    49.25|50.400002| 168900|50.400002|    $9.31B|Capital Goods|Biotechnology: La...|  NASDAQ|    168900|\n",
            "| 14|   TXG|2019-10-01|50.509998|51.919998|     46.0|47.029999| 536300|47.029999|    $9.31B|Capital Goods|Biotechnology: La...|  NASDAQ|    536300|\n",
            "| 15|   TXG|2019-10-02|46.779999|    47.23|45.110001|    46.07| 519600|    46.07|    $9.31B|Capital Goods|Biotechnology: La...|  NASDAQ|    519600|\n",
            "| 16|   TXG|2019-10-03|    46.77|48.240002|    45.75|48.119999| 703900|48.119999|    $9.31B|Capital Goods|Biotechnology: La...|  NASDAQ|    703900|\n",
            "| 17|   TXG|2019-10-04|     48.0|    53.34|    47.82|51.450001| 322400|51.450001|    $9.31B|Capital Goods|Biotechnology: La...|  NASDAQ|    322400|\n",
            "| 18|   TXG|2019-10-07|52.099998|53.220001|49.029999|50.360001| 476600|50.360001|    $9.31B|Capital Goods|Biotechnology: La...|  NASDAQ|    476600|\n",
            "| 19|   TXG|2019-10-08|     50.0|    51.27|     49.0|49.549999| 284100|49.549999|    $9.31B|Capital Goods|Biotechnology: La...|  NASDAQ|    284100|\n",
            "| 20|   TXG|2019-10-09|49.630001|51.525002|49.575001|50.009998| 201100|50.009998|    $9.31B|Capital Goods|Biotechnology: La...|  NASDAQ|    201100|\n",
            "+---+------+----------+---------+---------+---------+---------+-------+---------+----------+-------------+--------------------+--------+----------+\n",
            "only showing top 20 rows\n",
            "\n"
          ]
        }
      ]
    },
    {
      "cell_type": "code",
      "source": [
        "data_copy = data_copy.drop('symbol', 'close', 'volume', 'adjusted', 'market_cap','exchange')"
      ],
      "metadata": {
        "id": "ihKZu-bo3Cqy"
      },
      "execution_count": 46,
      "outputs": []
    },
    {
      "cell_type": "code",
      "source": [
        "data_copy.show()"
      ],
      "metadata": {
        "colab": {
          "base_uri": "https://localhost:8080/"
        },
        "id": "UBqukQ-f3fP6",
        "outputId": "45ec7470-3ab9-4e5c-dbb3-fb4360753aa3"
      },
      "execution_count": 47,
      "outputs": [
        {
          "output_type": "stream",
          "name": "stdout",
          "text": [
            "+---+----------+---------+---------+---------+-------------+--------------------+----------+\n",
            "|_c0|      date|     open|     high|      low|       sector|            industry|new_volume|\n",
            "+---+----------+---------+---------+---------+-------------+--------------------+----------+\n",
            "|  1|2019-09-12|     54.0|     58.0|     51.0|Capital Goods|Biotechnology: La...|   7326300|\n",
            "|  2|2019-09-13|    52.75|   54.355|49.150002|Capital Goods|Biotechnology: La...|   1025200|\n",
            "|  3|2019-09-16|52.450001|     56.0|52.009998|Capital Goods|Biotechnology: La...|    269900|\n",
            "|  4|2019-09-17|56.209999|60.900002|   55.423|Capital Goods|Biotechnology: La...|    602800|\n",
            "|  5|2019-09-18|56.849998|    62.27|55.650002|Capital Goods|Biotechnology: La...|   1589600|\n",
            "|  6|2019-09-19|62.810001|   63.375|61.029999|Capital Goods|Biotechnology: La...|    425200|\n",
            "|  7|2019-09-20|61.709999|62.419998|    59.82|Capital Goods|Biotechnology: La...|    392000|\n",
            "|  8|2019-09-23|60.220001|61.485001|59.939999|Capital Goods|Biotechnology: La...|    137200|\n",
            "|  9|2019-09-24|     61.0|     61.0|     54.0|Capital Goods|Biotechnology: La...|    713800|\n",
            "| 10|2019-09-25|54.459999|55.880001|   52.563|Capital Goods|Biotechnology: La...|    261200|\n",
            "| 11|2019-09-26|52.779999|53.689999|46.619999|Capital Goods|Biotechnology: La...|    596300|\n",
            "| 12|2019-09-27|51.130001|     55.0|50.700001|Capital Goods|Biotechnology: La...|    621300|\n",
            "| 13|2019-09-30|51.049999|     52.0|    49.25|Capital Goods|Biotechnology: La...|    168900|\n",
            "| 14|2019-10-01|50.509998|51.919998|     46.0|Capital Goods|Biotechnology: La...|    536300|\n",
            "| 15|2019-10-02|46.779999|    47.23|45.110001|Capital Goods|Biotechnology: La...|    519600|\n",
            "| 16|2019-10-03|    46.77|48.240002|    45.75|Capital Goods|Biotechnology: La...|    703900|\n",
            "| 17|2019-10-04|     48.0|    53.34|    47.82|Capital Goods|Biotechnology: La...|    322400|\n",
            "| 18|2019-10-07|52.099998|53.220001|49.029999|Capital Goods|Biotechnology: La...|    476600|\n",
            "| 19|2019-10-08|     50.0|    51.27|     49.0|Capital Goods|Biotechnology: La...|    284100|\n",
            "| 20|2019-10-09|49.630001|51.525002|49.575001|Capital Goods|Biotechnology: La...|    201100|\n",
            "+---+----------+---------+---------+---------+-------------+--------------------+----------+\n",
            "only showing top 20 rows\n",
            "\n"
          ]
        }
      ]
    },
    {
      "cell_type": "code",
      "source": [
        "data_copy = data_copy.select('_c0', 'open', 'low', 'high', 'sector', 'industry', 'new_volume', 'date')"
      ],
      "metadata": {
        "id": "AfnxzyzI385V"
      },
      "execution_count": 48,
      "outputs": []
    },
    {
      "cell_type": "code",
      "source": [
        "data_copy.take(1)"
      ],
      "metadata": {
        "colab": {
          "base_uri": "https://localhost:8080/"
        },
        "id": "lm9aEpVF4lQ7",
        "outputId": "5f2a14dc-3eaf-4e04-9a44-0f1340d7ce22"
      },
      "execution_count": 49,
      "outputs": [
        {
          "output_type": "execute_result",
          "data": {
            "text/plain": [
              "[Row(_c0=1, open=54.0, low=51.0, high=58.0, sector='Capital Goods', industry='Biotechnology: Laboratory Analytical Instruments', new_volume=7326300, date=datetime.date(2019, 9, 12))]"
            ]
          },
          "metadata": {},
          "execution_count": 49
        }
      ]
    },
    {
      "cell_type": "code",
      "source": [
        "# import pyspark.sql.functions as f\n",
        "\n",
        "# # Удаление строк с пропущенными значениями\n",
        "# data.na.drop()\n",
        "\n",
        "# # Замена отсутствующих значений средним\n",
        "# data.na.fill(data.select(f.mean(data['open'])).collect()[0][0])\n",
        "\n",
        "# # Замена отсутствующих значений новыми\n",
        "# data.na.replace(old_value, new_value)"
      ],
      "metadata": {
        "id": "u1RKno264Twc"
      },
      "execution_count": 50,
      "outputs": []
    },
    {
      "cell_type": "code",
      "source": [
        "import pyspark.sql.functions as f"
      ],
      "metadata": {
        "id": "7zPi17kt5QWU"
      },
      "execution_count": 51,
      "outputs": []
    },
    {
      "cell_type": "code",
      "source": [
        "data_schema = [\n",
        "               StructField('_c0', IntegerType(), nullable=True),\n",
        "               StructField('symbol', StringType(), True),\n",
        "               StructField('date', DateType(), True),\n",
        "               StructField('open', DoubleType(), True),\n",
        "               StructField('high', DoubleType(), True),\n",
        "               StructField('low', DoubleType(), True),\n",
        "               StructField('close', DoubleType(), True),\n",
        "               StructField('volume', IntegerType(), True),\n",
        "               StructField('adjusted', DoubleType(), True),\n",
        "               StructField('market.cap', StringType(), True),\n",
        "               StructField('sector', StringType(), True),\n",
        "               StructField('industry', StringType(), True),\n",
        "               StructField('exchange', StringType(), True),\n",
        "            ]\n",
        "path = '/content/drive/MyDrive/stocks_price_final.csv'\n",
        "final_struc = StructType(fields = data_schema)\n",
        "\n",
        "data = spark.read.csv(path, sep=',', header=True, schema=final_struc).withColumnRenamed('market.cap','market_cap')"
      ],
      "metadata": {
        "id": "vS59EVWK7YSH"
      },
      "execution_count": 52,
      "outputs": []
    },
    {
      "cell_type": "code",
      "source": [
        "data.na.drop().count()"
      ],
      "metadata": {
        "colab": {
          "base_uri": "https://localhost:8080/"
        },
        "id": "ry66eHqA7hZl",
        "outputId": "fdb27f13-bd12-461a-e27c-545a29348549"
      },
      "execution_count": 53,
      "outputs": [
        {
          "output_type": "execute_result",
          "data": {
            "text/plain": [
              "1725207"
            ]
          },
          "metadata": {},
          "execution_count": 53
        }
      ]
    },
    {
      "cell_type": "code",
      "source": [
        "data.count()"
      ],
      "metadata": {
        "colab": {
          "base_uri": "https://localhost:8080/"
        },
        "id": "pvTJaoZr7pKe",
        "outputId": "d8287394-d65a-4814-e758-52b98a4351ff"
      },
      "execution_count": 54,
      "outputs": [
        {
          "output_type": "execute_result",
          "data": {
            "text/plain": [
              "1729034"
            ]
          },
          "metadata": {},
          "execution_count": 54
        }
      ]
    },
    {
      "cell_type": "code",
      "source": [
        "data.count() - data.na.drop().count()"
      ],
      "metadata": {
        "colab": {
          "base_uri": "https://localhost:8080/"
        },
        "id": "i2IZlp737tv4",
        "outputId": "2c057b0f-80e4-4b9c-95f6-03af7a4102fb"
      },
      "execution_count": 55,
      "outputs": [
        {
          "output_type": "execute_result",
          "data": {
            "text/plain": [
              "3827"
            ]
          },
          "metadata": {},
          "execution_count": 55
        }
      ]
    },
    {
      "cell_type": "markdown",
      "source": [
        "# <FONT COLOR =\"YELLOW\">Получение данных"
      ],
      "metadata": {
        "id": "ffZXqpYPHJao"
      }
    },
    {
      "cell_type": "markdown",
      "source": [
        "PySpark и PySpark SQL предоставляют широкий спектр методов и функций для удобного запроса данных. Вот список наиболее часто используемых методов:\n",
        "\n",
        "Select\n",
        "Filter\n",
        "Between\n",
        "When\n",
        "Like\n",
        "GroupBy\n",
        "Агрегирование"
      ],
      "metadata": {
        "id": "mD9l8LdnHT_3"
      }
    },
    {
      "cell_type": "code",
      "source": [
        "# Select\n",
        "# Он используется для выбора одного или нескольких столбцов, используя их имена.\n",
        "\n",
        "# Вот простой пример:\n",
        "\n",
        "# # Выбор одного столбца\n",
        "# data.select('sector').show(5)\n",
        "\n",
        "# # Выбор нескольких столбцов\n",
        "# data.select(['open', 'close', 'adjusted']).show(5)"
      ],
      "metadata": {
        "id": "a0kOwgoHH7L2"
      },
      "execution_count": 58,
      "outputs": []
    },
    {
      "cell_type": "code",
      "source": [
        "data.select(['_c0', 'date',  'adjusted']).show()"
      ],
      "metadata": {
        "colab": {
          "base_uri": "https://localhost:8080/"
        },
        "id": "mSu8sm0qHOnx",
        "outputId": "d6e316fa-f7f5-40c7-85fa-0322da355ec3"
      },
      "execution_count": 57,
      "outputs": [
        {
          "output_type": "stream",
          "name": "stdout",
          "text": [
            "+---+----------+---------+\n",
            "|_c0|      date| adjusted|\n",
            "+---+----------+---------+\n",
            "|  1|2019-09-12|    52.75|\n",
            "|  2|2019-09-13|    52.27|\n",
            "|  3|2019-09-16|55.200001|\n",
            "|  4|2019-09-17|56.779999|\n",
            "|  5|2019-09-18|     62.0|\n",
            "|  6|2019-09-19|61.119999|\n",
            "|  7|2019-09-20|     60.5|\n",
            "|  8|2019-09-23|60.330002|\n",
            "|  9|2019-09-24|54.299999|\n",
            "| 10|2019-09-25|52.759998|\n",
            "| 11|2019-09-26|49.990002|\n",
            "| 12|2019-09-27|51.029999|\n",
            "| 13|2019-09-30|50.400002|\n",
            "| 14|2019-10-01|47.029999|\n",
            "| 15|2019-10-02|    46.07|\n",
            "| 16|2019-10-03|48.119999|\n",
            "| 17|2019-10-04|51.450001|\n",
            "| 18|2019-10-07|50.360001|\n",
            "| 19|2019-10-08|49.549999|\n",
            "| 20|2019-10-09|50.009998|\n",
            "+---+----------+---------+\n",
            "only showing top 20 rows\n",
            "\n"
          ]
        }
      ]
    },
    {
      "cell_type": "code",
      "source": [
        "# Filter\n",
        "# Данный метод фильтрует данные на основе заданного условия.\n",
        "#  Вы также можете указать несколько условий, используя операторы AND (&),\n",
        "#   OR (|) и NOT (~). Вот пример получения данных о ценах на акции за январь 2020 года.\n",
        "\n",
        "# data.filter( (col('data') >= lit('2020-01-01')) & (col('data') <= lit('2020-01-31')) ).show(5)"
      ],
      "metadata": {
        "id": "a7pmgJU4IONu"
      },
      "execution_count": 59,
      "outputs": []
    },
    {
      "cell_type": "code",
      "source": [
        "data.show(5)"
      ],
      "metadata": {
        "colab": {
          "base_uri": "https://localhost:8080/"
        },
        "id": "xEX5geKIIZHZ",
        "outputId": "ce062dc9-e114-478e-c8f1-fbbc8b3d9ee4"
      },
      "execution_count": 61,
      "outputs": [
        {
          "output_type": "stream",
          "name": "stdout",
          "text": [
            "+---+------+----------+---------+---------+---------+---------+-------+---------+----------+-------------+--------------------+--------+\n",
            "|_c0|symbol|      date|     open|     high|      low|    close| volume| adjusted|market_cap|       sector|            industry|exchange|\n",
            "+---+------+----------+---------+---------+---------+---------+-------+---------+----------+-------------+--------------------+--------+\n",
            "|  1|   TXG|2019-09-12|     54.0|     58.0|     51.0|    52.75|7326300|    52.75|    $9.31B|Capital Goods|Biotechnology: La...|  NASDAQ|\n",
            "|  2|   TXG|2019-09-13|    52.75|   54.355|49.150002|    52.27|1025200|    52.27|    $9.31B|Capital Goods|Biotechnology: La...|  NASDAQ|\n",
            "|  3|   TXG|2019-09-16|52.450001|     56.0|52.009998|55.200001| 269900|55.200001|    $9.31B|Capital Goods|Biotechnology: La...|  NASDAQ|\n",
            "|  4|   TXG|2019-09-17|56.209999|60.900002|   55.423|56.779999| 602800|56.779999|    $9.31B|Capital Goods|Biotechnology: La...|  NASDAQ|\n",
            "|  5|   TXG|2019-09-18|56.849998|    62.27|55.650002|     62.0|1589600|     62.0|    $9.31B|Capital Goods|Biotechnology: La...|  NASDAQ|\n",
            "+---+------+----------+---------+---------+---------+---------+-------+---------+----------+-------------+--------------------+--------+\n",
            "only showing top 5 rows\n",
            "\n"
          ]
        }
      ]
    },
    {
      "cell_type": "code",
      "source": [
        "data.select(['_c0', 'date', 'volume', 'market_cap']) \\\n",
        "    .filter((f.col('volume')>=1025200) &  (f.col('date') >= '2019-09-01')) \\\n",
        "    .show()"
      ],
      "metadata": {
        "colab": {
          "base_uri": "https://localhost:8080/"
        },
        "id": "MbyytKvHIh8L",
        "outputId": "7459db94-4f4e-4fc2-a33f-1cffbfc29626"
      },
      "execution_count": 81,
      "outputs": [
        {
          "output_type": "stream",
          "name": "stdout",
          "text": [
            "+---+----------+-------+----------+\n",
            "|_c0|      date| volume|market_cap|\n",
            "+---+----------+-------+----------+\n",
            "|  1|2019-09-12|7326300|    $9.31B|\n",
            "|  2|2019-09-13|1025200|    $9.31B|\n",
            "|  5|2019-09-18|1589600|    $9.31B|\n",
            "| 71|2019-12-20|1224000|    $9.31B|\n",
            "|122|2020-03-06|3934700|    $9.31B|\n",
            "|125|2020-03-11|1066300|    $9.31B|\n",
            "|131|2020-03-19|1125800|    $9.31B|\n",
            "|132|2020-03-20|1342500|    $9.31B|\n",
            "|133|2020-03-23|1261400|    $9.31B|\n",
            "|157|2020-04-27|1117800|    $9.31B|\n",
            "|159|2020-04-29|1096200|    $9.31B|\n",
            "|168|2020-05-12|1392400|    $9.31B|\n",
            "|170|2020-05-14|1387800|    $9.31B|\n",
            "|174|2020-05-20|1054300|    $9.31B|\n",
            "|176|2020-05-22|1056000|    $9.31B|\n",
            "|181|2020-06-01|1226700|    $9.31B|\n",
            "|183|2020-06-03|1656000|    $9.31B|\n",
            "|184|2020-06-04|1288300|    $9.31B|\n",
            "|186|2020-06-08|1183900|    $9.31B|\n",
            "|191|2020-06-15|1658900|    $9.31B|\n",
            "+---+----------+-------+----------+\n",
            "only showing top 20 rows\n",
            "\n"
          ]
        }
      ]
    },
    {
      "cell_type": "code",
      "source": [
        "# Between\n",
        "# Этот метод возвращает True, если проверяемое значение принадлежит указанному отрезку,\n",
        "#  иначе — False. Давайте посмотрим на пример отбора данных,\n",
        "#  в которых значения adjusted находятся в диапазоне от 100 до 500.\n",
        "\n",
        "# data.filter(data.adjusted.between(100.0, 500.0)).show()"
      ],
      "metadata": {
        "id": "J6zAdfLeL3vg"
      },
      "execution_count": 84,
      "outputs": []
    },
    {
      "cell_type": "code",
      "source": [
        "data.select(['_c0', 'date', 'volume', 'market_cap']) \\\n",
        ".filter(data.date.between('2019-09-01', '2019-09-03')) \\\n",
        ".show(10)"
      ],
      "metadata": {
        "colab": {
          "base_uri": "https://localhost:8080/"
        },
        "id": "6kr67LnAL8I2",
        "outputId": "13eccb91-cc27-4987-c5bf-4e7fb9b48329"
      },
      "execution_count": 94,
      "outputs": [
        {
          "output_type": "stream",
          "name": "stdout",
          "text": [
            "+----+----------+-------+----------+\n",
            "| _c0|      date| volume|market_cap|\n",
            "+----+----------+-------+----------+\n",
            "| 386|2019-09-03|  45500|  $560.04M|\n",
            "| 778|2019-09-03|   2900|   $27.43M|\n",
            "|1170|2019-09-03|  33700|   $54.46M|\n",
            "|1562|2019-09-03| 485700|    $1.72B|\n",
            "|1949|2019-09-03|  13000|   $48.47M|\n",
            "|2461|2019-09-03|   2400|  $123.84M|\n",
            "|2853|2019-09-03|  33500|  $876.64M|\n",
            "|3245|2019-09-03| 147500|    $2.53B|\n",
            "|3637|2019-09-03|1499900|    $2.87B|\n",
            "|4029|2019-09-03| 220100|    $2.48B|\n",
            "+----+----------+-------+----------+\n",
            "only showing top 10 rows\n",
            "\n"
          ]
        }
      ]
    },
    {
      "cell_type": "code",
      "source": [
        "# When\n",
        "# Он возвращает 0 или 1 в зависимости от заданного условия.\n",
        "# В приведенном ниже примере показано, как выбрать такие цены на момент открытия\n",
        "# и закрытия торгов, при которых скорректированная цена была больше или равна 200.\n",
        "\n",
        "# data.select('open', 'close',\n",
        "#             when(data.adjusted >= 200.0, 1).otherwise(0) # otherwise - то же, что и else\n",
        "# ).show(5)"
      ],
      "metadata": {
        "id": "fvLwZJiTO37w"
      },
      "execution_count": 95,
      "outputs": []
    },
    {
      "cell_type": "code",
      "source": [
        "data.select(['_c0', 'date', 'volume', 'market_cap', f.when(data.volume >=200000, 'More_200k') \\\n",
        "             .otherwise('Less_200k')]) \\\n",
        "             .withColumnRenamed('CASE WHEN (volume >= 200000) THEN More_200k ELSE Less_200k END','comparation') \\\n",
        "             .show(15)"
      ],
      "metadata": {
        "colab": {
          "base_uri": "https://localhost:8080/"
        },
        "id": "_6AEuTxWO8dD",
        "outputId": "28f5c78d-75ae-433c-a5b2-21444a4df5b3"
      },
      "execution_count": 111,
      "outputs": [
        {
          "output_type": "stream",
          "name": "stdout",
          "text": [
            "+---+----------+-------+----------+-----------+\n",
            "|_c0|      date| volume|market_cap|comparation|\n",
            "+---+----------+-------+----------+-----------+\n",
            "|  1|2019-09-12|7326300|    $9.31B|  More_200k|\n",
            "|  2|2019-09-13|1025200|    $9.31B|  More_200k|\n",
            "|  3|2019-09-16| 269900|    $9.31B|  More_200k|\n",
            "|  4|2019-09-17| 602800|    $9.31B|  More_200k|\n",
            "|  5|2019-09-18|1589600|    $9.31B|  More_200k|\n",
            "|  6|2019-09-19| 425200|    $9.31B|  More_200k|\n",
            "|  7|2019-09-20| 392000|    $9.31B|  More_200k|\n",
            "|  8|2019-09-23| 137200|    $9.31B|  Less_200k|\n",
            "|  9|2019-09-24| 713800|    $9.31B|  More_200k|\n",
            "| 10|2019-09-25| 261200|    $9.31B|  More_200k|\n",
            "| 11|2019-09-26| 596300|    $9.31B|  More_200k|\n",
            "| 12|2019-09-27| 621300|    $9.31B|  More_200k|\n",
            "| 13|2019-09-30| 168900|    $9.31B|  Less_200k|\n",
            "| 14|2019-10-01| 536300|    $9.31B|  More_200k|\n",
            "| 15|2019-10-02| 519600|    $9.31B|  More_200k|\n",
            "+---+----------+-------+----------+-----------+\n",
            "only showing top 15 rows\n",
            "\n"
          ]
        }
      ]
    },
    {
      "cell_type": "code",
      "source": [
        "# Like\n",
        "# Этот метод похож на оператор Like в SQL.\n",
        "#  Приведенный ниже код демонстрирует использование rlike() для извлечения имен секторов,\n",
        "#  которые начинаются с букв M или C.\n",
        "\n",
        "# data.select(\n",
        "#     'sector',\n",
        "#     data.sector.rlike('^[B,C]').alias('Колонка sector начинается с B или C')\n",
        "# ).distinct().show()"
      ],
      "metadata": {
        "id": "X6EZUM9QTJ2e"
      },
      "execution_count": 112,
      "outputs": []
    },
    {
      "cell_type": "code",
      "source": [
        "data.select('sector').distinct().show()"
      ],
      "metadata": {
        "colab": {
          "base_uri": "https://localhost:8080/"
        },
        "id": "415GpCj3TQs0",
        "outputId": "7fcb6644-26fd-469d-e63c-daf2b28a1c67"
      },
      "execution_count": 116,
      "outputs": [
        {
          "output_type": "stream",
          "name": "stdout",
          "text": [
            "+--------------------+\n",
            "|              sector|\n",
            "+--------------------+\n",
            "|       Miscellaneous|\n",
            "|         Health Care|\n",
            "|    Public Utilities|\n",
            "|              Energy|\n",
            "|Consumer Non-Dura...|\n",
            "|             Finance|\n",
            "|    Basic Industries|\n",
            "|       Capital Goods|\n",
            "|          Technology|\n",
            "|   Consumer Services|\n",
            "|   Consumer Durables|\n",
            "|      Transportation|\n",
            "+--------------------+\n",
            "\n"
          ]
        }
      ]
    },
    {
      "cell_type": "code",
      "source": [
        "data.select('*').filter(data.sector.like('Consumer%')).show()"
      ],
      "metadata": {
        "colab": {
          "base_uri": "https://localhost:8080/"
        },
        "id": "gaRRBmA2T8M8",
        "outputId": "f02ee2e3-cb29-4ebb-b814-c1fd22604bce"
      },
      "execution_count": 117,
      "outputs": [
        {
          "output_type": "stream",
          "name": "stdout",
          "text": [
            "+----+------+----------+-----+-----+-----+-----+------+--------+----------+-----------------+--------------------+--------+\n",
            "| _c0|symbol|      date| open| high|  low|close|volume|adjusted|market_cap|           sector|            industry|exchange|\n",
            "+----+------+----------+-----+-----+-----+-----+------+--------+----------+-----------------+--------------------+--------+\n",
            "|1394|  FLWS|2019-01-02|12.02|12.33| 12.0|12.18|147100|   12.18|    $1.72B|Consumer Services|Other Specialty S...|  NASDAQ|\n",
            "|1395|  FLWS|2019-01-03|12.08|12.28|11.82|12.06|117700|   12.06|    $1.72B|Consumer Services|Other Specialty S...|  NASDAQ|\n",
            "|1396|  FLWS|2019-01-04| 12.2|12.56|12.11|12.43|119200|   12.43|    $1.72B|Consumer Services|Other Specialty S...|  NASDAQ|\n",
            "|1397|  FLWS|2019-01-07|12.43|12.91|12.35|12.69|131000|   12.69|    $1.72B|Consumer Services|Other Specialty S...|  NASDAQ|\n",
            "|1398|  FLWS|2019-01-08|12.84|13.08|12.67|12.96|187300|   12.96|    $1.72B|Consumer Services|Other Specialty S...|  NASDAQ|\n",
            "|1399|  FLWS|2019-01-09|12.92|13.16|12.78|12.99|174900|   12.99|    $1.72B|Consumer Services|Other Specialty S...|  NASDAQ|\n",
            "|1400|  FLWS|2019-01-10|12.88|12.96|12.75|12.87|151000|   12.87|    $1.72B|Consumer Services|Other Specialty S...|  NASDAQ|\n",
            "|1401|  FLWS|2019-01-11|12.78|13.15|12.73|13.02|134200|   13.02|    $1.72B|Consumer Services|Other Specialty S...|  NASDAQ|\n",
            "|1402|  FLWS|2019-01-14|12.93|13.07|12.81| 13.0|121300|    13.0|    $1.72B|Consumer Services|Other Specialty S...|  NASDAQ|\n",
            "|1403|  FLWS|2019-01-15|13.01|13.06|12.76|12.94|164900|   12.94|    $1.72B|Consumer Services|Other Specialty S...|  NASDAQ|\n",
            "|1404|  FLWS|2019-01-16|12.92|13.07| 12.7| 12.8|165800|    12.8|    $1.72B|Consumer Services|Other Specialty S...|  NASDAQ|\n",
            "|1405|  FLWS|2019-01-17|12.73|13.03|12.65|12.97|273200|   12.97|    $1.72B|Consumer Services|Other Specialty S...|  NASDAQ|\n",
            "|1406|  FLWS|2019-01-18|12.96|13.17|12.86| 12.9|106600|    12.9|    $1.72B|Consumer Services|Other Specialty S...|  NASDAQ|\n",
            "|1407|  FLWS|2019-01-22|12.79| 13.0|12.74|12.87|119300|   12.87|    $1.72B|Consumer Services|Other Specialty S...|  NASDAQ|\n",
            "|1408|  FLWS|2019-01-23| 12.9|13.42| 12.9| 13.4|169000|    13.4|    $1.72B|Consumer Services|Other Specialty S...|  NASDAQ|\n",
            "|1409|  FLWS|2019-01-24|13.46|13.57|13.09|13.15|107700|   13.15|    $1.72B|Consumer Services|Other Specialty S...|  NASDAQ|\n",
            "|1410|  FLWS|2019-01-25| 13.2|13.49|13.18|13.35| 94700|   13.35|    $1.72B|Consumer Services|Other Specialty S...|  NASDAQ|\n",
            "|1411|  FLWS|2019-01-28|13.24|13.34|13.11|13.33|271300|   13.33|    $1.72B|Consumer Services|Other Specialty S...|  NASDAQ|\n",
            "|1412|  FLWS|2019-01-29|13.34|13.37|13.15|13.28|135000|   13.28|    $1.72B|Consumer Services|Other Specialty S...|  NASDAQ|\n",
            "|1413|  FLWS|2019-01-30|13.28|13.42|13.11|13.34|161800|   13.34|    $1.72B|Consumer Services|Other Specialty S...|  NASDAQ|\n",
            "+----+------+----------+-----+-----+-----+-----+------+--------+----------+-----------------+--------------------+--------+\n",
            "only showing top 20 rows\n",
            "\n"
          ]
        }
      ]
    },
    {
      "cell_type": "code",
      "source": [
        "# GroupBy\n",
        "# Само название подсказывает, что данная функция группирует данные по выбранному столбцу\n",
        "#  и выполняет различные операции, такие как вычисление суммы, среднего, минимального,\n",
        "#   максимального значения и т. д. В приведенном ниже примере объясняется,\n",
        "#    как получить среднюю цену открытия, закрытия и скорректированную цену акций по отраслям.\n",
        "\n",
        "# (data.select(['industry', 'open', 'close', 'adjusted'])\n",
        "#     .groupBy('industry')\n",
        "#     .mean()\n",
        "#     .show()\n",
        "# )"
      ],
      "metadata": {
        "id": "SEzFiZG1WXom"
      },
      "execution_count": 118,
      "outputs": []
    },
    {
      "cell_type": "code",
      "source": [
        "data.select('sector').distinct().show()"
      ],
      "metadata": {
        "colab": {
          "base_uri": "https://localhost:8080/"
        },
        "id": "PWV2IEd3XA1T",
        "outputId": "03d61fc5-29c5-4d7e-cf50-0a652a069fbc"
      },
      "execution_count": 120,
      "outputs": [
        {
          "output_type": "stream",
          "name": "stdout",
          "text": [
            "+--------------------+\n",
            "|              sector|\n",
            "+--------------------+\n",
            "|       Miscellaneous|\n",
            "|         Health Care|\n",
            "|    Public Utilities|\n",
            "|              Energy|\n",
            "|Consumer Non-Dura...|\n",
            "|             Finance|\n",
            "|    Basic Industries|\n",
            "|       Capital Goods|\n",
            "|          Technology|\n",
            "|   Consumer Services|\n",
            "|   Consumer Durables|\n",
            "|      Transportation|\n",
            "+--------------------+\n",
            "\n"
          ]
        }
      ]
    },
    {
      "cell_type": "code",
      "source": [
        "data.select(['sector', 'close']).groupBy(data.sector).mean() \\\n",
        ".withColumnRenamed('avg(close)', 'avg_close') \\\n",
        ".show()"
      ],
      "metadata": {
        "colab": {
          "base_uri": "https://localhost:8080/"
        },
        "id": "zDcL7U7tWceG",
        "outputId": "70b19d56-dd83-4268-c326-e88c13a86f2e"
      },
      "execution_count": 123,
      "outputs": [
        {
          "output_type": "stream",
          "name": "stdout",
          "text": [
            "+--------------------+------------------+\n",
            "|              sector|         avg_close|\n",
            "+--------------------+------------------+\n",
            "|       Miscellaneous| 52.06362854950968|\n",
            "|         Health Care|119.07806125419022|\n",
            "|    Public Utilities| 35.58528245861945|\n",
            "|              Energy|24.427350302158175|\n",
            "|Consumer Non-Dura...| 43.33038601364613|\n",
            "|             Finance| 37.77900231428883|\n",
            "|    Basic Industries| 265750.3613671152|\n",
            "|       Capital Goods|60.516554835687764|\n",
            "|          Technology| 49.53479888748186|\n",
            "|   Consumer Services|55.055247536473416|\n",
            "|   Consumer Durables|390.10415506572406|\n",
            "|      Transportation| 37.29532668104838|\n",
            "+--------------------+------------------+\n",
            "\n"
          ]
        }
      ]
    },
    {
      "cell_type": "code",
      "source": [
        "# Агрегирование\n",
        "# PySpark предоставляет встроенные стандартные функции агрегации, определенные в\n",
        "# API DataFrame, они могут пригодится, когда нам нужно выполнить агрегирование\n",
        "# значений ваших столбцов. Другими словами, такие функции работают с группами строк\n",
        "# и вычисляют единственное возвращаемое значение для каждой группы.\n",
        "\n",
        "# В приведенном ниже примере показано, как отобразить минимальные, максимальные и\n",
        "# средние значения цен открытия, закрытия и скорректированных цен акций в промежутке\n",
        "# с января 2019 года по январь 2020 года для каждого сектора.\n",
        "\n",
        "# (data.filter((col('data') >= lit('2019-01-02')) & (col('data') <= lit('2020-01-31')))\n",
        "#     .groupBy(\"sector\")\n",
        "#     .agg(min(\"data\").alias(\"С\"),\n",
        "#          max(\"data\").alias(\"По\"),\n",
        "\n",
        "#          min(\"open\").alias(\"Минимум при открытии\"),\n",
        "#          max(\"open\").alias(\"Максимум при открытии\"),\n",
        "#          avg(\"open\").alias(\"Среднее в open\"),\n",
        "\n",
        "#          min(\"close\").alias(\"Минимум при закрытии\"),\n",
        "#          max(\"close\").alias(\"Максимум при закрытии\"),\n",
        "#          avg(\"close\").alias(\"Среднее в close\"),\n",
        "\n",
        "#          min(\"adjusted\").alias(\"Скорректированный минимум\"),\n",
        "#          max(\"adjusted\").alias(\"Скорректированный максимум\"),\n",
        "#          avg(\"adjusted\").alias(\"Среднее в adjusted\"),\n",
        "\n",
        "#       ).show(truncate=False)\n",
        "# )"
      ],
      "metadata": {
        "id": "QqMqgxXAYKz4"
      },
      "execution_count": null,
      "outputs": []
    },
    {
      "cell_type": "code",
      "source": [
        "data.show(5)"
      ],
      "metadata": {
        "colab": {
          "base_uri": "https://localhost:8080/"
        },
        "id": "1dDPHrTOYULy",
        "outputId": "45c26a71-f93c-4e2c-af9a-1c73dc50fdcc"
      },
      "execution_count": 124,
      "outputs": [
        {
          "output_type": "stream",
          "name": "stdout",
          "text": [
            "+---+------+----------+---------+---------+---------+---------+-------+---------+----------+-------------+--------------------+--------+\n",
            "|_c0|symbol|      date|     open|     high|      low|    close| volume| adjusted|market_cap|       sector|            industry|exchange|\n",
            "+---+------+----------+---------+---------+---------+---------+-------+---------+----------+-------------+--------------------+--------+\n",
            "|  1|   TXG|2019-09-12|     54.0|     58.0|     51.0|    52.75|7326300|    52.75|    $9.31B|Capital Goods|Biotechnology: La...|  NASDAQ|\n",
            "|  2|   TXG|2019-09-13|    52.75|   54.355|49.150002|    52.27|1025200|    52.27|    $9.31B|Capital Goods|Biotechnology: La...|  NASDAQ|\n",
            "|  3|   TXG|2019-09-16|52.450001|     56.0|52.009998|55.200001| 269900|55.200001|    $9.31B|Capital Goods|Biotechnology: La...|  NASDAQ|\n",
            "|  4|   TXG|2019-09-17|56.209999|60.900002|   55.423|56.779999| 602800|56.779999|    $9.31B|Capital Goods|Biotechnology: La...|  NASDAQ|\n",
            "|  5|   TXG|2019-09-18|56.849998|    62.27|55.650002|     62.0|1589600|     62.0|    $9.31B|Capital Goods|Biotechnology: La...|  NASDAQ|\n",
            "+---+------+----------+---------+---------+---------+---------+-------+---------+----------+-------------+--------------------+--------+\n",
            "only showing top 5 rows\n",
            "\n"
          ]
        }
      ]
    },
    {
      "cell_type": "code",
      "source": [
        "data.select('exchange').distinct().show()"
      ],
      "metadata": {
        "colab": {
          "base_uri": "https://localhost:8080/"
        },
        "id": "cAr6ldgiY4JM",
        "outputId": "2f6564a1-a7c3-44dc-ff97-219f08dee559"
      },
      "execution_count": 127,
      "outputs": [
        {
          "output_type": "stream",
          "name": "stdout",
          "text": [
            "+--------+\n",
            "|exchange|\n",
            "+--------+\n",
            "|  NASDAQ|\n",
            "|    NYSE|\n",
            "+--------+\n",
            "\n"
          ]
        }
      ]
    },
    {
      "cell_type": "code",
      "source": [
        "(data.filter((f.col('date')>='2019-01-01') & (f.col('date')<='2019-03-01'))) \\\n",
        ".groupBy('sector') \\\n",
        ".agg(f.min('open').alias('min_open'),\n",
        "     f.max('open').alias('max_open'),\n",
        "     f.avg('open').alias('avg_open'),\n",
        "     f.median('open').alias('median_open'),\n",
        "\n",
        "\n",
        "     f.min('close').alias('min_close'),\n",
        "     f.max('close').alias('max_close'),\n",
        "     f.avg('close').alias('avg_close'),\n",
        "     f.median('close').alias('median_close'),\n",
        "     f.count('close').alias('count')) \\\n",
        "     .show()"
      ],
      "metadata": {
        "colab": {
          "base_uri": "https://localhost:8080/"
        },
        "id": "XBKyTfPRawoK",
        "outputId": "300b99d5-2f1d-4c88-b702-26f0860ed4c6"
      },
      "execution_count": 154,
      "outputs": [
        {
          "output_type": "stream",
          "name": "stdout",
          "text": [
            "+--------------------+--------+------------+------------------+-----------+---------+------------+------------------+------------------+-----+\n",
            "|              sector|min_open|    max_open|          avg_open|median_open|min_close|   max_close|         avg_close|      median_close|count|\n",
            "+--------------------+--------+------------+------------------+-----------+---------+------------+------------------+------------------+-----+\n",
            "|       Miscellaneous|    0.32|      461.75| 45.39442496093596|  18.040001|     0.41|  476.880005| 45.58184635018838|             18.09| 5043|\n",
            "|         Health Care|    0.26|    186000.0|252.16317834250395|       11.6|    0.255|    187000.0| 252.0255337248845|              11.6|30569|\n",
            "|    Public Utilities|    0.62|  188.449997| 35.41926035044549|      28.85|     0.66|  188.229996|35.500647107727175|         28.950001| 7519|\n",
            "|              Energy|     0.4|       780.0|29.956218367849115|  17.620001|     0.39|  789.799988| 30.04946525986684|             17.65| 9020|\n",
            "|Consumer Non-Dura...|   0.453|  314.700012| 42.30413924712943|  27.865001|    0.437|  312.559998| 42.40646899119673|             27.99| 7838|\n",
            "|             Finance|    0.67| 1067.550049| 39.36170741795101|  23.559999|     0.79| 1069.199951| 39.47979169983999|             23.65|29391|\n",
            "|    Basic Industries|    0.61|1.60168176E8|459622.95685653185|     21.235|    0.625|1.58376592E8| 464842.5975466585|         21.384999|10086|\n",
            "|       Capital Goods|    0.55| 2700.449951|55.780961790245314|  27.110001|    0.569| 2691.459961|  55.9789948539747|             27.24|13573|\n",
            "|          Technology|   0.515|      2704.0|47.348254835794236|  22.379999|     0.52|      2736.0|47.508431832710635|         22.469999|23026|\n",
            "|   Consumer Services|    0.53|     10875.0|60.605782747248874|      21.48|     0.59|     10312.5| 60.68449383199898|         21.559999|27351|\n",
            "|   Consumer Durables|    0.56|    106250.0| 653.2913586213272|       29.0|     0.67|   103906.25| 653.8790694555149|              29.0| 4867|\n",
            "|      Transportation|    0.61|  208.149994| 39.11674504278076|       19.5|     0.73|  208.729996| 39.19980183835686|19.520000500000002| 4114|\n",
            "+--------------------+--------+------------+------------------+-----------+---------+------------+------------------+------------------+-----+\n",
            "\n"
          ]
        }
      ]
    },
    {
      "cell_type": "code",
      "source": [
        "df_bank = spark.read.csv('/content/drive/MyDrive/bank.csv', sep=';', header=True)\n",
        "df_bank.show(5, truncate=False)"
      ],
      "metadata": {
        "colab": {
          "base_uri": "https://localhost:8080/"
        },
        "id": "6oUfeH7lgCew",
        "outputId": "682f8697-aed3-4f53-a0b8-02ec545eeb2d"
      },
      "execution_count": 162,
      "outputs": [
        {
          "output_type": "stream",
          "name": "stdout",
          "text": [
            "+---+-----------+-------+---------+-------+-------+-------+----+--------+---+-----+--------+--------+-----+--------+--------+---+\n",
            "|age|job        |marital|education|default|balance|housing|loan|contact |day|month|duration|campaign|pdays|previous|poutcome|y  |\n",
            "+---+-----------+-------+---------+-------+-------+-------+----+--------+---+-----+--------+--------+-----+--------+--------+---+\n",
            "|30 |unemployed |married|primary  |no     |1787   |no     |no  |cellular|19 |oct  |79      |1       |-1   |0       |unknown |no |\n",
            "|33 |services   |married|secondary|no     |4789   |yes    |yes |cellular|11 |may  |220     |1       |339  |4       |failure |no |\n",
            "|35 |management |single |tertiary |no     |1350   |yes    |no  |cellular|16 |apr  |185     |1       |330  |1       |failure |no |\n",
            "|30 |management |married|tertiary |no     |1476   |yes    |yes |unknown |3  |jun  |199     |4       |-1   |0       |unknown |no |\n",
            "|59 |blue-collar|married|secondary|no     |0      |yes    |no  |unknown |5  |may  |226     |1       |-1   |0       |unknown |no |\n",
            "+---+-----------+-------+---------+-------+-------+-------+----+--------+---+-----+--------+--------+-----+--------+--------+---+\n",
            "only showing top 5 rows\n",
            "\n"
          ]
        }
      ]
    },
    {
      "cell_type": "code",
      "source": [
        "# Задача\n",
        "\n",
        "# Сгруппировать значения по возрасту и найти количество элементов в группе.\n",
        "\n",
        "# Примечание\n",
        "\n",
        "# Вывести первые 5 строк, скопировав вывод и вставив в ответ;\n",
        "\n",
        "# Итоговая таблица должна содержать следующие столбцы:\n",
        "\n",
        "# +---+-----+\n",
        "# |age|count|\n",
        "# +---+-----+"
      ],
      "metadata": {
        "id": "YNhyIKUcleHG"
      },
      "execution_count": 175,
      "outputs": []
    },
    {
      "cell_type": "code",
      "source": [
        "df_bank.groupBy('age').agg(f.count('age').alias('count')).show(5)"
      ],
      "metadata": {
        "colab": {
          "base_uri": "https://localhost:8080/"
        },
        "id": "FRApudIvisUf",
        "outputId": "1baee325-da9e-4e6f-acf4-9177bf4b4c3c"
      },
      "execution_count": 166,
      "outputs": [
        {
          "output_type": "stream",
          "name": "stdout",
          "text": [
            "+---+-----+\n",
            "|age|count|\n",
            "+---+-----+\n",
            "| 51|   91|\n",
            "| 54|   71|\n",
            "| 29|   97|\n",
            "| 69|    6|\n",
            "| 42|  141|\n",
            "+---+-----+\n",
            "only showing top 5 rows\n",
            "\n"
          ]
        }
      ]
    },
    {
      "cell_type": "code",
      "source": [
        "# Задача\n",
        "\n",
        "# Найти, сотрудники с каким возрастом работают в банке чаще всего.\n",
        "\n",
        "# Примечание\n",
        "\n",
        "# Вывести первые 5 строк, скопировать вывод и вставить в ответ (в ответ включить \"only showing top 5 rows\");\n",
        "\n",
        "# Итоговая таблица должна содержать следующие столбцы:\n",
        "\n",
        "# +---+-----+\n",
        "# |age|count|\n",
        "# +---+-----+"
      ],
      "metadata": {
        "id": "eTQAz3KvlkGD"
      },
      "execution_count": 176,
      "outputs": []
    },
    {
      "cell_type": "code",
      "source": [
        "df_bank.groupBy('age').agg(f.count('age').alias('count')).orderBy(f.col('count').desc()).show(5)\n"
      ],
      "metadata": {
        "colab": {
          "base_uri": "https://localhost:8080/"
        },
        "id": "zk4agDkIjyQs",
        "outputId": "7d9ef730-8814-48e0-da77-40bc7ed4b448"
      },
      "execution_count": 174,
      "outputs": [
        {
          "output_type": "stream",
          "name": "stdout",
          "text": [
            "+---+-----+\n",
            "|age|count|\n",
            "+---+-----+\n",
            "| 34|  231|\n",
            "| 32|  224|\n",
            "| 31|  199|\n",
            "| 36|  188|\n",
            "| 33|  186|\n",
            "+---+-----+\n",
            "only showing top 5 rows\n",
            "\n"
          ]
        }
      ]
    },
    {
      "cell_type": "code",
      "source": [
        "# Задача\n",
        "\n",
        "# Необходимо найти возраст и количество самых молодых сотрудников банка\n",
        "\n",
        "# Примечание\n",
        "\n",
        "# Вывести первые 5 строк, скопировать вывод и вставить в ответ (в ответ включить \"only showing top 5 rows\");\n",
        "\n",
        "# Итоговая таблица должна содержать следующие столбцы:\n",
        "\n",
        "# +---+-----+\n",
        "# |age|count|\n",
        "# +---+-----+"
      ],
      "metadata": {
        "id": "1PcY7M4Mlmko"
      },
      "execution_count": 177,
      "outputs": []
    },
    {
      "cell_type": "code",
      "source": [
        "df_bank.groupBy('age').agg(f.count('age').alias('count')).orderBy(f.col('age').asc()).show(5)"
      ],
      "metadata": {
        "colab": {
          "base_uri": "https://localhost:8080/"
        },
        "id": "tD69hbJllspW",
        "outputId": "0ac66b99-b166-41f4-cfd7-892c039bdb65"
      },
      "execution_count": 178,
      "outputs": [
        {
          "output_type": "stream",
          "name": "stdout",
          "text": [
            "+---+-----+\n",
            "|age|count|\n",
            "+---+-----+\n",
            "| 19|    4|\n",
            "| 20|    3|\n",
            "| 21|    7|\n",
            "| 22|    9|\n",
            "| 23|   20|\n",
            "+---+-----+\n",
            "only showing top 5 rows\n",
            "\n"
          ]
        }
      ]
    },
    {
      "cell_type": "code",
      "source": [
        "# Задача\n",
        "\n",
        "# Необходимо вывести возраст и количество сотрудников,\n",
        "# которым более 30 лет. Произвести сортировку полученной таблицы по столбцу age по возрастанию.\n",
        "\n",
        "# Примечание\n",
        "\n",
        "# Вывести первые 5 строк, скопировать вывод и вставить в ответ (в ответ включить\n",
        "# \"only showing top 5 rows\");\n",
        "\n",
        "# Итоговая таблица должна содержать следующие столбцы:\n",
        "\n",
        "# +---+-----+\n",
        "# |age|count|\n",
        "# +---+-----+"
      ],
      "metadata": {
        "id": "mlHCh4JlmFMp"
      },
      "execution_count": 179,
      "outputs": []
    },
    {
      "cell_type": "code",
      "source": [
        "df_bank.groupBy('age').agg(f.count('age').alias('count')) \\\n",
        ".filter(f.col('age') > 30).orderBy(f.col('age').asc()).show(5)"
      ],
      "metadata": {
        "colab": {
          "base_uri": "https://localhost:8080/"
        },
        "id": "r5GvNFCamHHU",
        "outputId": "6d0c79fc-d7e6-4725-8240-a3ad3bb3e06b"
      },
      "execution_count": 184,
      "outputs": [
        {
          "output_type": "stream",
          "name": "stdout",
          "text": [
            "+---+-----+\n",
            "|age|count|\n",
            "+---+-----+\n",
            "| 31|  199|\n",
            "| 32|  224|\n",
            "| 33|  186|\n",
            "| 34|  231|\n",
            "| 35|  180|\n",
            "+---+-----+\n",
            "only showing top 5 rows\n",
            "\n"
          ]
        }
      ]
    }
  ]
}